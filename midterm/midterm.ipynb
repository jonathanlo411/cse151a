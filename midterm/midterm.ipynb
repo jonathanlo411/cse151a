{
 "cells": [
  {
   "cell_type": "code",
   "execution_count": 1,
   "id": "8fadc0b4",
   "metadata": {},
   "outputs": [],
   "source": [
    "import json\n",
    "import gzip\n",
    "import math\n",
    "import pandas as pd\n",
    "from collections import defaultdict\n",
    "import numpy as np\n",
    "from sklearn import linear_model\n",
    "import random\n",
    "import statistics\n",
    "from sklearn.metrics import mean_absolute_error, mean_squared_error, accuracy_score, precision_score\n",
    "from sklearn.metrics.pairwise import cosine_similarity"
   ]
  },
  {
   "cell_type": "code",
   "execution_count": 2,
   "id": "a65d981e",
   "metadata": {},
   "outputs": [],
   "source": [
    "import warnings\n",
    "\n",
    "warnings.simplefilter('ignore')"
   ]
  },
  {
   "cell_type": "code",
   "execution_count": 3,
   "id": "bcdcf1eb",
   "metadata": {},
   "outputs": [],
   "source": [
    "def assertFloat(x):\n",
    "    assert type(float(x)) == float\n",
    "\n",
    "def assertFloatList(items, N):\n",
    "    assert len(items) == N\n",
    "    assert [type(float(x)) for x in items] == [float]*N"
   ]
  },
  {
   "cell_type": "code",
   "execution_count": 4,
   "id": "42a8d119",
   "metadata": {},
   "outputs": [],
   "source": [
    "answers = {}"
   ]
  },
  {
   "cell_type": "code",
   "execution_count": 5,
   "id": "83a6d4b5",
   "metadata": {},
   "outputs": [],
   "source": [
    "z = gzip.open(\"./../data/train.json.gz\")"
   ]
  },
  {
   "cell_type": "code",
   "execution_count": 6,
   "id": "0d2ef14c",
   "metadata": {},
   "outputs": [],
   "source": [
    "dataset = []\n",
    "for l in z:\n",
    "    d = eval(l)\n",
    "    dataset.append(d)"
   ]
  },
  {
   "cell_type": "code",
   "execution_count": 7,
   "id": "46a06fd5",
   "metadata": {},
   "outputs": [],
   "source": [
    "z.close()"
   ]
  },
  {
   "cell_type": "code",
   "execution_count": 8,
   "id": "93e80cfe",
   "metadata": {},
   "outputs": [],
   "source": [
    "### Question 1"
   ]
  },
  {
   "cell_type": "code",
   "execution_count": 9,
   "id": "9313a06c",
   "metadata": {},
   "outputs": [],
   "source": [
    "reviewsPerUser = defaultdict(list)\n",
    "reviewsPerItem = defaultdict(list)\n",
    "\n",
    "for d in dataset:\n",
    "    u,i = d['userID'],d['gameID']\n",
    "    reviewsPerUser[u].append(d)\n",
    "    reviewsPerItem[i].append(d)\n",
    "    \n",
    "for u in reviewsPerUser:\n",
    "    reviewsPerUser[u].sort(key=lambda x: x['date'])\n",
    "    \n",
    "for i in reviewsPerItem:\n",
    "    reviewsPerItem[i].sort(key=lambda x: x['date'])"
   ]
  },
  {
   "cell_type": "code",
   "execution_count": 10,
   "id": "c6402cc4",
   "metadata": {},
   "outputs": [],
   "source": [
    "df = pd.DataFrame(dataset)"
   ]
  },
  {
   "cell_type": "code",
   "execution_count": 11,
   "id": "03227213",
   "metadata": {},
   "outputs": [],
   "source": [
    "df['text length'] = df['text'].str.len()\n",
    "df['ones'] = 1"
   ]
  },
  {
   "cell_type": "code",
   "execution_count": 12,
   "id": "a4e6ec8d",
   "metadata": {},
   "outputs": [],
   "source": [
    "X = df[['ones', 'hours']]\n",
    "y = df[['text length']]"
   ]
  },
  {
   "cell_type": "code",
   "execution_count": 13,
   "id": "b74b4f96",
   "metadata": {},
   "outputs": [],
   "source": [
    "mod = linear_model.LinearRegression()\n",
    "mod.fit(X,y)\n",
    "predictions = mod.predict(X) "
   ]
  },
  {
   "cell_type": "code",
   "execution_count": 14,
   "id": "9deb166d",
   "metadata": {},
   "outputs": [],
   "source": [
    "theta_1 = mod.coef_[0][1]"
   ]
  },
  {
   "cell_type": "code",
   "execution_count": 15,
   "id": "01a4668f",
   "metadata": {},
   "outputs": [],
   "source": [
    "mse_q1 = mean_squared_error(y, predictions)"
   ]
  },
  {
   "cell_type": "code",
   "execution_count": 16,
   "id": "f32ed5c0",
   "metadata": {},
   "outputs": [],
   "source": [
    "answers['Q1'] = [theta_1, mse_q1]"
   ]
  },
  {
   "cell_type": "code",
   "execution_count": 17,
   "id": "7c0b7568",
   "metadata": {},
   "outputs": [],
   "source": [
    "assertFloatList(answers['Q1'], 2)"
   ]
  },
  {
   "cell_type": "code",
   "execution_count": 18,
   "id": "6e26bb75",
   "metadata": {},
   "outputs": [],
   "source": [
    "### Question 2"
   ]
  },
  {
   "cell_type": "code",
   "execution_count": 19,
   "id": "72007ee8",
   "metadata": {},
   "outputs": [],
   "source": [
    "median_hours = df['hours'].median()"
   ]
  },
  {
   "cell_type": "code",
   "execution_count": 20,
   "id": "6022836b",
   "metadata": {},
   "outputs": [
    {
     "data": {
      "text/html": [
       "<div>\n",
       "<style scoped>\n",
       "    .dataframe tbody tr th:only-of-type {\n",
       "        vertical-align: middle;\n",
       "    }\n",
       "\n",
       "    .dataframe tbody tr th {\n",
       "        vertical-align: top;\n",
       "    }\n",
       "\n",
       "    .dataframe thead th {\n",
       "        text-align: right;\n",
       "    }\n",
       "</style>\n",
       "<table border=\"1\" class=\"dataframe\">\n",
       "  <thead>\n",
       "    <tr style=\"text-align: right;\">\n",
       "      <th></th>\n",
       "      <th>ones</th>\n",
       "      <th>hours</th>\n",
       "      <th>log hours</th>\n",
       "      <th>sq root hours</th>\n",
       "      <th>above median</th>\n",
       "    </tr>\n",
       "  </thead>\n",
       "  <tbody>\n",
       "    <tr>\n",
       "      <th>0</th>\n",
       "      <td>1</td>\n",
       "      <td>0.3</td>\n",
       "      <td>0.378512</td>\n",
       "      <td>0.547723</td>\n",
       "      <td>False</td>\n",
       "    </tr>\n",
       "    <tr>\n",
       "      <th>1</th>\n",
       "      <td>1</td>\n",
       "      <td>63.5</td>\n",
       "      <td>6.011227</td>\n",
       "      <td>7.968689</td>\n",
       "      <td>True</td>\n",
       "    </tr>\n",
       "    <tr>\n",
       "      <th>2</th>\n",
       "      <td>1</td>\n",
       "      <td>0.2</td>\n",
       "      <td>0.263034</td>\n",
       "      <td>0.447214</td>\n",
       "      <td>False</td>\n",
       "    </tr>\n",
       "    <tr>\n",
       "      <th>3</th>\n",
       "      <td>1</td>\n",
       "      <td>11.9</td>\n",
       "      <td>3.689299</td>\n",
       "      <td>3.449638</td>\n",
       "      <td>True</td>\n",
       "    </tr>\n",
       "    <tr>\n",
       "      <th>4</th>\n",
       "      <td>1</td>\n",
       "      <td>1.4</td>\n",
       "      <td>1.263034</td>\n",
       "      <td>1.183216</td>\n",
       "      <td>False</td>\n",
       "    </tr>\n",
       "    <tr>\n",
       "      <th>...</th>\n",
       "      <td>...</td>\n",
       "      <td>...</td>\n",
       "      <td>...</td>\n",
       "      <td>...</td>\n",
       "      <td>...</td>\n",
       "    </tr>\n",
       "    <tr>\n",
       "      <th>174995</th>\n",
       "      <td>1</td>\n",
       "      <td>98.6</td>\n",
       "      <td>6.638074</td>\n",
       "      <td>9.929753</td>\n",
       "      <td>True</td>\n",
       "    </tr>\n",
       "    <tr>\n",
       "      <th>174996</th>\n",
       "      <td>1</td>\n",
       "      <td>9.9</td>\n",
       "      <td>3.446256</td>\n",
       "      <td>3.146427</td>\n",
       "      <td>False</td>\n",
       "    </tr>\n",
       "    <tr>\n",
       "      <th>174997</th>\n",
       "      <td>1</td>\n",
       "      <td>5.4</td>\n",
       "      <td>2.678072</td>\n",
       "      <td>2.323790</td>\n",
       "      <td>False</td>\n",
       "    </tr>\n",
       "    <tr>\n",
       "      <th>174998</th>\n",
       "      <td>1</td>\n",
       "      <td>4.4</td>\n",
       "      <td>2.432959</td>\n",
       "      <td>2.097618</td>\n",
       "      <td>False</td>\n",
       "    </tr>\n",
       "    <tr>\n",
       "      <th>174999</th>\n",
       "      <td>1</td>\n",
       "      <td>0.2</td>\n",
       "      <td>0.263034</td>\n",
       "      <td>0.447214</td>\n",
       "      <td>False</td>\n",
       "    </tr>\n",
       "  </tbody>\n",
       "</table>\n",
       "<p>175000 rows × 5 columns</p>\n",
       "</div>"
      ],
      "text/plain": [
       "        ones  hours  log hours  sq root hours  above median\n",
       "0          1    0.3   0.378512       0.547723         False\n",
       "1          1   63.5   6.011227       7.968689          True\n",
       "2          1    0.2   0.263034       0.447214         False\n",
       "3          1   11.9   3.689299       3.449638          True\n",
       "4          1    1.4   1.263034       1.183216         False\n",
       "...      ...    ...        ...            ...           ...\n",
       "174995     1   98.6   6.638074       9.929753          True\n",
       "174996     1    9.9   3.446256       3.146427         False\n",
       "174997     1    5.4   2.678072       2.323790         False\n",
       "174998     1    4.4   2.432959       2.097618         False\n",
       "174999     1    0.2   0.263034       0.447214         False\n",
       "\n",
       "[175000 rows x 5 columns]"
      ]
     },
     "execution_count": 20,
     "metadata": {},
     "output_type": "execute_result"
    }
   ],
   "source": [
    "X['log hours'] = df['hours'].transform(lambda x: math.log2(x + 1))\n",
    "X['sq root hours'] = df['hours'].transform(lambda x: math.sqrt(x))\n",
    "X['above median'] = df['hours'].transform(lambda x: x > median_hours)\n",
    "X"
   ]
  },
  {
   "cell_type": "code",
   "execution_count": 21,
   "id": "1197d1b8",
   "metadata": {},
   "outputs": [],
   "source": [
    "mod = linear_model.LinearRegression(fit_intercept=False)\n",
    "mod.fit(X,y)\n",
    "predictions = mod.predict(X)"
   ]
  },
  {
   "cell_type": "code",
   "execution_count": 22,
   "id": "2402ef0b",
   "metadata": {},
   "outputs": [],
   "source": [
    "mse_q2 = mean_squared_error(y, predictions)"
   ]
  },
  {
   "cell_type": "code",
   "execution_count": 23,
   "id": "1a5d7a44",
   "metadata": {},
   "outputs": [],
   "source": [
    "answers['Q2'] = mse_q2"
   ]
  },
  {
   "cell_type": "code",
   "execution_count": 24,
   "id": "fad4744e",
   "metadata": {},
   "outputs": [],
   "source": [
    "assertFloat(answers['Q2'])"
   ]
  },
  {
   "cell_type": "code",
   "execution_count": 25,
   "id": "a690f9b9",
   "metadata": {},
   "outputs": [],
   "source": [
    "### Question 3"
   ]
  },
  {
   "cell_type": "code",
   "execution_count": 26,
   "id": "4a45697a",
   "metadata": {},
   "outputs": [
    {
     "data": {
      "text/html": [
       "<div>\n",
       "<style scoped>\n",
       "    .dataframe tbody tr th:only-of-type {\n",
       "        vertical-align: middle;\n",
       "    }\n",
       "\n",
       "    .dataframe tbody tr th {\n",
       "        vertical-align: top;\n",
       "    }\n",
       "\n",
       "    .dataframe thead th {\n",
       "        text-align: right;\n",
       "    }\n",
       "</style>\n",
       "<table border=\"1\" class=\"dataframe\">\n",
       "  <thead>\n",
       "    <tr style=\"text-align: right;\">\n",
       "      <th></th>\n",
       "      <th>ones</th>\n",
       "      <th>lambda 1</th>\n",
       "      <th>lambda 2</th>\n",
       "      <th>lambda 3</th>\n",
       "      <th>lambda 4</th>\n",
       "      <th>lambda 5</th>\n",
       "    </tr>\n",
       "  </thead>\n",
       "  <tbody>\n",
       "    <tr>\n",
       "      <th>0</th>\n",
       "      <td>1</td>\n",
       "      <td>False</td>\n",
       "      <td>False</td>\n",
       "      <td>False</td>\n",
       "      <td>False</td>\n",
       "      <td>False</td>\n",
       "    </tr>\n",
       "    <tr>\n",
       "      <th>1</th>\n",
       "      <td>1</td>\n",
       "      <td>True</td>\n",
       "      <td>True</td>\n",
       "      <td>True</td>\n",
       "      <td>False</td>\n",
       "      <td>False</td>\n",
       "    </tr>\n",
       "    <tr>\n",
       "      <th>2</th>\n",
       "      <td>1</td>\n",
       "      <td>False</td>\n",
       "      <td>False</td>\n",
       "      <td>False</td>\n",
       "      <td>False</td>\n",
       "      <td>False</td>\n",
       "    </tr>\n",
       "    <tr>\n",
       "      <th>3</th>\n",
       "      <td>1</td>\n",
       "      <td>True</td>\n",
       "      <td>True</td>\n",
       "      <td>True</td>\n",
       "      <td>False</td>\n",
       "      <td>False</td>\n",
       "    </tr>\n",
       "    <tr>\n",
       "      <th>4</th>\n",
       "      <td>1</td>\n",
       "      <td>True</td>\n",
       "      <td>False</td>\n",
       "      <td>False</td>\n",
       "      <td>False</td>\n",
       "      <td>False</td>\n",
       "    </tr>\n",
       "    <tr>\n",
       "      <th>...</th>\n",
       "      <td>...</td>\n",
       "      <td>...</td>\n",
       "      <td>...</td>\n",
       "      <td>...</td>\n",
       "      <td>...</td>\n",
       "      <td>...</td>\n",
       "    </tr>\n",
       "    <tr>\n",
       "      <th>174995</th>\n",
       "      <td>1</td>\n",
       "      <td>True</td>\n",
       "      <td>True</td>\n",
       "      <td>True</td>\n",
       "      <td>False</td>\n",
       "      <td>False</td>\n",
       "    </tr>\n",
       "    <tr>\n",
       "      <th>174996</th>\n",
       "      <td>1</td>\n",
       "      <td>True</td>\n",
       "      <td>True</td>\n",
       "      <td>False</td>\n",
       "      <td>False</td>\n",
       "      <td>False</td>\n",
       "    </tr>\n",
       "    <tr>\n",
       "      <th>174997</th>\n",
       "      <td>1</td>\n",
       "      <td>True</td>\n",
       "      <td>True</td>\n",
       "      <td>False</td>\n",
       "      <td>False</td>\n",
       "      <td>False</td>\n",
       "    </tr>\n",
       "    <tr>\n",
       "      <th>174998</th>\n",
       "      <td>1</td>\n",
       "      <td>True</td>\n",
       "      <td>False</td>\n",
       "      <td>False</td>\n",
       "      <td>False</td>\n",
       "      <td>False</td>\n",
       "    </tr>\n",
       "    <tr>\n",
       "      <th>174999</th>\n",
       "      <td>1</td>\n",
       "      <td>False</td>\n",
       "      <td>False</td>\n",
       "      <td>False</td>\n",
       "      <td>False</td>\n",
       "      <td>False</td>\n",
       "    </tr>\n",
       "  </tbody>\n",
       "</table>\n",
       "<p>175000 rows × 6 columns</p>\n",
       "</div>"
      ],
      "text/plain": [
       "        ones  lambda 1  lambda 2  lambda 3  lambda 4  lambda 5\n",
       "0          1     False     False     False     False     False\n",
       "1          1      True      True      True     False     False\n",
       "2          1     False     False     False     False     False\n",
       "3          1      True      True      True     False     False\n",
       "4          1      True     False     False     False     False\n",
       "...      ...       ...       ...       ...       ...       ...\n",
       "174995     1      True      True      True     False     False\n",
       "174996     1      True      True     False     False     False\n",
       "174997     1      True      True     False     False     False\n",
       "174998     1      True     False     False     False     False\n",
       "174999     1     False     False     False     False     False\n",
       "\n",
       "[175000 rows x 6 columns]"
      ]
     },
     "execution_count": 26,
     "metadata": {},
     "output_type": "execute_result"
    }
   ],
   "source": [
    "X = pd.DataFrame()\n",
    "X['ones'] = df['ones']\n",
    "X['lambda 1'] = df['hours'].transform(lambda x: x > 1)\n",
    "X['lambda 2'] = df['hours'].transform(lambda x: x > 5)\n",
    "X['lambda 3'] = df['hours'].transform(lambda x: x > 10)\n",
    "X['lambda 4'] = df['hours'].transform(lambda x: x > 100)\n",
    "X['lambda 5'] = df['hours'].transform(lambda x: x > 1000)\n",
    "X"
   ]
  },
  {
   "cell_type": "code",
   "execution_count": 27,
   "id": "44943983",
   "metadata": {},
   "outputs": [],
   "source": [
    "mod = linear_model.LinearRegression(fit_intercept=False)\n",
    "mod.fit(X,y)\n",
    "predictions = mod.predict(X)"
   ]
  },
  {
   "cell_type": "code",
   "execution_count": 28,
   "id": "4439c4e6",
   "metadata": {},
   "outputs": [],
   "source": [
    "mse_q3 = mean_squared_error(y, predictions)"
   ]
  },
  {
   "cell_type": "code",
   "execution_count": 29,
   "id": "20b470b3",
   "metadata": {},
   "outputs": [],
   "source": [
    "answers['Q3'] = mse_q3"
   ]
  },
  {
   "cell_type": "code",
   "execution_count": 30,
   "id": "3846bd87",
   "metadata": {},
   "outputs": [],
   "source": [
    "assertFloat(answers['Q3'])"
   ]
  },
  {
   "cell_type": "code",
   "execution_count": 31,
   "id": "69de975e",
   "metadata": {},
   "outputs": [],
   "source": [
    "### Question 4"
   ]
  },
  {
   "cell_type": "code",
   "execution_count": 32,
   "id": "06a41f9d",
   "metadata": {},
   "outputs": [
    {
     "data": {
      "text/html": [
       "<div>\n",
       "<style scoped>\n",
       "    .dataframe tbody tr th:only-of-type {\n",
       "        vertical-align: middle;\n",
       "    }\n",
       "\n",
       "    .dataframe tbody tr th {\n",
       "        vertical-align: top;\n",
       "    }\n",
       "\n",
       "    .dataframe thead th {\n",
       "        text-align: right;\n",
       "    }\n",
       "</style>\n",
       "<table border=\"1\" class=\"dataframe\">\n",
       "  <thead>\n",
       "    <tr style=\"text-align: right;\">\n",
       "      <th></th>\n",
       "      <th>ones</th>\n",
       "      <th>text length</th>\n",
       "    </tr>\n",
       "  </thead>\n",
       "  <tbody>\n",
       "    <tr>\n",
       "      <th>0</th>\n",
       "      <td>1</td>\n",
       "      <td>2</td>\n",
       "    </tr>\n",
       "    <tr>\n",
       "      <th>1</th>\n",
       "      <td>1</td>\n",
       "      <td>95</td>\n",
       "    </tr>\n",
       "    <tr>\n",
       "      <th>2</th>\n",
       "      <td>1</td>\n",
       "      <td>211</td>\n",
       "    </tr>\n",
       "    <tr>\n",
       "      <th>3</th>\n",
       "      <td>1</td>\n",
       "      <td>197</td>\n",
       "    </tr>\n",
       "    <tr>\n",
       "      <th>4</th>\n",
       "      <td>1</td>\n",
       "      <td>141</td>\n",
       "    </tr>\n",
       "    <tr>\n",
       "      <th>...</th>\n",
       "      <td>...</td>\n",
       "      <td>...</td>\n",
       "    </tr>\n",
       "    <tr>\n",
       "      <th>174995</th>\n",
       "      <td>1</td>\n",
       "      <td>760</td>\n",
       "    </tr>\n",
       "    <tr>\n",
       "      <th>174996</th>\n",
       "      <td>1</td>\n",
       "      <td>87</td>\n",
       "    </tr>\n",
       "    <tr>\n",
       "      <th>174997</th>\n",
       "      <td>1</td>\n",
       "      <td>29</td>\n",
       "    </tr>\n",
       "    <tr>\n",
       "      <th>174998</th>\n",
       "      <td>1</td>\n",
       "      <td>63</td>\n",
       "    </tr>\n",
       "    <tr>\n",
       "      <th>174999</th>\n",
       "      <td>1</td>\n",
       "      <td>140</td>\n",
       "    </tr>\n",
       "  </tbody>\n",
       "</table>\n",
       "<p>175000 rows × 2 columns</p>\n",
       "</div>"
      ],
      "text/plain": [
       "        ones  text length\n",
       "0          1            2\n",
       "1          1           95\n",
       "2          1          211\n",
       "3          1          197\n",
       "4          1          141\n",
       "...      ...          ...\n",
       "174995     1          760\n",
       "174996     1           87\n",
       "174997     1           29\n",
       "174998     1           63\n",
       "174999     1          140\n",
       "\n",
       "[175000 rows x 2 columns]"
      ]
     },
     "execution_count": 32,
     "metadata": {},
     "output_type": "execute_result"
    }
   ],
   "source": [
    "X = df[['ones', 'text length']]\n",
    "X"
   ]
  },
  {
   "cell_type": "code",
   "execution_count": 33,
   "id": "ded533ea",
   "metadata": {},
   "outputs": [],
   "source": [
    "y = df[['hours']]"
   ]
  },
  {
   "cell_type": "code",
   "execution_count": 34,
   "id": "d57f7fc8",
   "metadata": {},
   "outputs": [],
   "source": [
    "mod = linear_model.LinearRegression(fit_intercept=False)\n",
    "mod.fit(X,y)\n",
    "predictions = mod.predict(X)"
   ]
  },
  {
   "cell_type": "code",
   "execution_count": 35,
   "id": "c92c3a8d",
   "metadata": {},
   "outputs": [],
   "source": [
    "mse = mean_squared_error(y, predictions)\n",
    "mae = mean_absolute_error(y, predictions)"
   ]
  },
  {
   "cell_type": "code",
   "execution_count": 36,
   "id": "eff1f9a8",
   "metadata": {},
   "outputs": [
    {
     "data": {
      "text/plain": [
       "(75735.70018272949, 90.35613031985211)"
      ]
     },
     "execution_count": 36,
     "metadata": {},
     "output_type": "execute_result"
    }
   ],
   "source": [
    "mse, mae"
   ]
  },
  {
   "cell_type": "code",
   "execution_count": 37,
   "id": "ab2a5ddc",
   "metadata": {},
   "outputs": [],
   "source": [
    "answers['Q4'] = [mse, mae, \"MAE is better in this case because we are just trying to find the generalized result\"]"
   ]
  },
  {
   "cell_type": "code",
   "execution_count": 38,
   "id": "44b4eba2",
   "metadata": {},
   "outputs": [],
   "source": [
    "assertFloatList(answers['Q4'][:2], 2)"
   ]
  },
  {
   "cell_type": "code",
   "execution_count": 39,
   "id": "3d0ee44c",
   "metadata": {},
   "outputs": [],
   "source": [
    "### Question 5"
   ]
  },
  {
   "cell_type": "code",
   "execution_count": 40,
   "id": "a333cb41",
   "metadata": {},
   "outputs": [],
   "source": [
    "y_trans = df['hours'].transform(lambda x: math.log2(x + 1))"
   ]
  },
  {
   "cell_type": "code",
   "execution_count": 41,
   "id": "a8e690b6",
   "metadata": {},
   "outputs": [],
   "source": [
    "mod = linear_model.LinearRegression(fit_intercept=False)\n",
    "mod.fit(X,y_trans)\n",
    "predictions_trans = mod.predict(X)"
   ]
  },
  {
   "cell_type": "code",
   "execution_count": 42,
   "id": "6fcc3141",
   "metadata": {},
   "outputs": [],
   "source": [
    "mse_trans = mean_squared_error(y_trans, predictions_trans)"
   ]
  },
  {
   "cell_type": "code",
   "execution_count": 43,
   "id": "62185cfa",
   "metadata": {},
   "outputs": [],
   "source": [
    "predictions_untrans = list(map(lambda x: 2**x - 1, predictions_trans))"
   ]
  },
  {
   "cell_type": "code",
   "execution_count": 44,
   "id": "3b0db71f",
   "metadata": {},
   "outputs": [],
   "source": [
    "mse_untrans = mean_squared_error(y, predictions_untrans)"
   ]
  },
  {
   "cell_type": "code",
   "execution_count": 45,
   "id": "9ec7c9c7",
   "metadata": {},
   "outputs": [],
   "source": [
    "answers['Q5'] = [mse_trans, mse_untrans]"
   ]
  },
  {
   "cell_type": "code",
   "execution_count": 46,
   "id": "55ee62bb",
   "metadata": {},
   "outputs": [],
   "source": [
    "assertFloatList(answers['Q5'], 2)"
   ]
  },
  {
   "cell_type": "code",
   "execution_count": 47,
   "id": "0e41b3db",
   "metadata": {},
   "outputs": [],
   "source": [
    "### Question 6"
   ]
  },
  {
   "cell_type": "code",
   "execution_count": 48,
   "id": "b538f945",
   "metadata": {},
   "outputs": [],
   "source": [
    "def feat6(d):\n",
    "    val = [0] * 100\n",
    "    hours = int(d['hours'])\n",
    "    if (hours > 99):\n",
    "        val[99] = 1\n",
    "    else:\n",
    "        val[hours] = 1\n",
    "    return val"
   ]
  },
  {
   "cell_type": "code",
   "execution_count": 49,
   "id": "b530b615",
   "metadata": {},
   "outputs": [],
   "source": [
    "X = [feat6(d) for d in dataset]\n",
    "y = [len(d['text']) for d in dataset]"
   ]
  },
  {
   "cell_type": "code",
   "execution_count": 50,
   "id": "f3a35fff",
   "metadata": {},
   "outputs": [],
   "source": [
    "Xtrain, Xvalid, Xtest = X[:len(X)//2], X[len(X)//2:(3*len(X))//4], X[(3*len(X))//4:]\n",
    "ytrain, yvalid, ytest = y[:len(X)//2], y[len(X)//2:(3*len(X))//4], y[(3*len(X))//4:]"
   ]
  },
  {
   "cell_type": "code",
   "execution_count": 51,
   "id": "c7f5d114",
   "metadata": {},
   "outputs": [],
   "source": [
    "alphas = [1, 10, 100, 1000, 10000]\n",
    "best_alpha = None\n",
    "best_mse_val = float('inf')\n",
    "best_mse_test = None\n",
    "\n",
    "for alpha in alphas:\n",
    "    # Fit Ridge regression model\n",
    "    model = linear_model.Ridge(alpha=alpha)\n",
    "    model.fit(Xtrain, ytrain)\n",
    "\n",
    "    # Predict on the validation set\n",
    "    y_pred_val = model.predict(Xvalid)\n",
    "\n",
    "    # Calculate MSE on validation set\n",
    "    mse_val = mean_squared_error(yvalid, y_pred_val)\n",
    "\n",
    "    if mse_val < best_mse_val:\n",
    "        best_mse_val = mse_val\n",
    "        best_alpha = alpha\n",
    "        # Predict on the test set with the best model\n",
    "        y_pred_test = model.predict(Xtest)\n",
    "        best_mse_test = mean_squared_error(ytest, y_pred_test)"
   ]
  },
  {
   "cell_type": "code",
   "execution_count": 52,
   "id": "beb34bd2",
   "metadata": {},
   "outputs": [
    {
     "data": {
      "text/plain": [
       "(1000, 581432.8208480754, 560786.7645482325)"
      ]
     },
     "execution_count": 52,
     "metadata": {},
     "output_type": "execute_result"
    }
   ],
   "source": [
    "best_alpha, best_mse_val, best_mse_test"
   ]
  },
  {
   "cell_type": "code",
   "execution_count": 53,
   "id": "f49bfb80",
   "metadata": {},
   "outputs": [],
   "source": [
    "answers['Q6'] = [best_alpha, best_mse_val, best_mse_test]"
   ]
  },
  {
   "cell_type": "code",
   "execution_count": 54,
   "id": "8baaf741",
   "metadata": {},
   "outputs": [],
   "source": [
    "assertFloatList(answers['Q6'], 3)"
   ]
  },
  {
   "cell_type": "code",
   "execution_count": 55,
   "id": "f0aa5b79",
   "metadata": {},
   "outputs": [],
   "source": [
    "### Question 7"
   ]
  },
  {
   "cell_type": "code",
   "execution_count": 56,
   "id": "504f6f12",
   "metadata": {},
   "outputs": [],
   "source": [
    "times = [d['hours_transformed'] for d in dataset]\n",
    "median = statistics.median(times)"
   ]
  },
  {
   "cell_type": "code",
   "execution_count": 57,
   "id": "c71ffb04",
   "metadata": {},
   "outputs": [],
   "source": [
    "nNotPlayed = df['hours'].transform(lambda x: x < 1).sum()"
   ]
  },
  {
   "cell_type": "code",
   "execution_count": 58,
   "id": "7d2bed2d",
   "metadata": {},
   "outputs": [],
   "source": [
    "answers['Q7'] = [median, nNotPlayed]"
   ]
  },
  {
   "cell_type": "code",
   "execution_count": 59,
   "id": "b1bdbec6",
   "metadata": {},
   "outputs": [],
   "source": [
    "assertFloatList(answers['Q7'], 2)"
   ]
  },
  {
   "cell_type": "code",
   "execution_count": 60,
   "id": "67e8ecc1",
   "metadata": {},
   "outputs": [],
   "source": [
    "### Question 8"
   ]
  },
  {
   "cell_type": "code",
   "execution_count": 61,
   "id": "04607068",
   "metadata": {},
   "outputs": [],
   "source": [
    "X = df[['ones', 'text length']]\n",
    "y = [d['hours_transformed'] > median for d in dataset]"
   ]
  },
  {
   "cell_type": "code",
   "execution_count": 62,
   "id": "8bad8f5c",
   "metadata": {},
   "outputs": [],
   "source": [
    "mod = linear_model.LogisticRegression(class_weight='balanced')\n",
    "mod.fit(X,y)\n",
    "predictions = mod.predict(X) # Binary vector of predictions"
   ]
  },
  {
   "cell_type": "code",
   "execution_count": 63,
   "id": "44a577ea",
   "metadata": {},
   "outputs": [],
   "source": [
    "def rates(predictions, y):\n",
    "    TP = [a and b for (a,b) in zip(predictions,y)]\n",
    "    TN = [not a and not b for (a,b) in zip(predictions,y)]\n",
    "    FP = [a and not b for (a,b) in zip(predictions,y)]\n",
    "    FN = [not a and b for (a,b) in zip(predictions,y)]\n",
    "\n",
    "    TP = sum(TP)\n",
    "    TN = sum(TN)\n",
    "    FP = sum(FP)\n",
    "    FN = sum(FN)\n",
    "    \n",
    "    return TP, TN, FP, FN"
   ]
  },
  {
   "cell_type": "code",
   "execution_count": 64,
   "id": "6b96e14a",
   "metadata": {},
   "outputs": [],
   "source": [
    "TP, TN, FP, FN = rates(predictions, y)"
   ]
  },
  {
   "cell_type": "code",
   "execution_count": 65,
   "id": "1945455a",
   "metadata": {},
   "outputs": [],
   "source": [
    "BER = 0.5 * (FP / (TN + FP) + FN / (FN + TP))"
   ]
  },
  {
   "cell_type": "code",
   "execution_count": 66,
   "id": "7573d9f5",
   "metadata": {},
   "outputs": [
    {
     "data": {
      "text/plain": [
       "0.472506390561468"
      ]
     },
     "execution_count": 66,
     "metadata": {},
     "output_type": "execute_result"
    }
   ],
   "source": [
    "BER"
   ]
  },
  {
   "cell_type": "code",
   "execution_count": 67,
   "id": "2f3004dc",
   "metadata": {},
   "outputs": [],
   "source": [
    "answers['Q8'] = [TP, TN, FP, FN, BER]"
   ]
  },
  {
   "cell_type": "code",
   "execution_count": 68,
   "id": "f3623ff7",
   "metadata": {},
   "outputs": [],
   "source": [
    "assertFloatList(answers['Q8'], 5)"
   ]
  },
  {
   "cell_type": "code",
   "execution_count": 69,
   "id": "219a48b7",
   "metadata": {},
   "outputs": [],
   "source": [
    "### Question 9"
   ]
  },
  {
   "cell_type": "code",
   "execution_count": 70,
   "id": "f1cd4979",
   "metadata": {},
   "outputs": [
    {
     "name": "stdout",
     "output_type": "stream",
     "text": [
      "Precision@5 = 0.5455\n",
      "Precision@10 = 0.5455\n",
      "Precision@100 = 0.6700\n",
      "Precision@1000 = 0.6850\n"
     ]
    }
   ],
   "source": [
    "\n",
    "y_pred_prob = mod.predict_proba(X)[:, 1]  # Probabilities of being in the positive class\n",
    "k_values = [5, 10, 100, 1000]\n",
    "precisions_at_k = []\n",
    "\n",
    "for k in k_values:\n",
    "    # Sort predictions by predicted probability in descending order\n",
    "    sorted_indices = np.argsort(-y_pred_prob)\n",
    "    \n",
    "    # Determine the threshold for the k-th ranked prediction\n",
    "    threshold = y_pred_prob[sorted_indices[k - 1]]\n",
    "    \n",
    "    # Convert y and predictions to NumPy arrays\n",
    "    y_np = np.array(y)\n",
    "    predictions_np = np.array(predictions)\n",
    "    \n",
    "    # Find the indices of all predictions with probability >= threshold\n",
    "    selected_indices = np.where(y_pred_prob >= threshold)[0]\n",
    "    \n",
    "    # Compute precision for these selected predictions\n",
    "    precision = precision_score(y_np[selected_indices], predictions_np[selected_indices])\n",
    "    \n",
    "    precisions_at_k.append(precision)\n",
    "\n",
    "# Print precision@k values\n",
    "for i, k in enumerate(k_values):\n",
    "    print(f'Precision@{k} = {precisions_at_k[i]:.4f}')\n"
   ]
  },
  {
   "cell_type": "code",
   "execution_count": 71,
   "id": "8a856ebb",
   "metadata": {},
   "outputs": [],
   "source": [
    "answers['Q9'] = precisions_at_k"
   ]
  },
  {
   "cell_type": "code",
   "execution_count": 72,
   "id": "6d85ba8a",
   "metadata": {},
   "outputs": [],
   "source": [
    "assertFloatList(answers['Q9'], 4)"
   ]
  },
  {
   "cell_type": "code",
   "execution_count": 73,
   "id": "26a3af12",
   "metadata": {},
   "outputs": [],
   "source": [
    "### Question 10"
   ]
  },
  {
   "cell_type": "code",
   "execution_count": 74,
   "id": "435b494f",
   "metadata": {},
   "outputs": [],
   "source": [
    "y_trans = [d['hours_transformed'] for d in dataset]"
   ]
  },
  {
   "cell_type": "code",
   "execution_count": 75,
   "id": "4e5c9662",
   "metadata": {},
   "outputs": [],
   "source": [
    "mod = linear_model.LinearRegression(fit_intercept=False)\n",
    "mod.fit(X,y_trans)\n",
    "predictions_trans = mod.predict(X)"
   ]
  },
  {
   "cell_type": "code",
   "execution_count": 76,
   "id": "3f466026",
   "metadata": {},
   "outputs": [
    {
     "data": {
      "text/plain": [
       "0.4260170326351089"
      ]
     },
     "execution_count": 76,
     "metadata": {},
     "output_type": "execute_result"
    }
   ],
   "source": [
    "your_threshold = 3.7\n",
    "predictions_thresh = list(map(lambda x: x > your_threshold, predictions_trans))\n",
    "TP, TN, FP, FN = rates(predictions_thresh, y_trans)\n",
    "BER = 0.5 * (FP / (TN + FP) + FN / (FN + TP))\n",
    "BER"
   ]
  },
  {
   "cell_type": "code",
   "execution_count": 77,
   "id": "7846fa89",
   "metadata": {},
   "outputs": [],
   "source": [
    "answers['Q10'] = [your_threshold, BER]"
   ]
  },
  {
   "cell_type": "code",
   "execution_count": 78,
   "id": "9c718e55",
   "metadata": {},
   "outputs": [],
   "source": [
    "assertFloatList(answers['Q10'], 2)"
   ]
  },
  {
   "cell_type": "code",
   "execution_count": 79,
   "id": "0795d286",
   "metadata": {},
   "outputs": [],
   "source": [
    "### Question 11"
   ]
  },
  {
   "cell_type": "code",
   "execution_count": 80,
   "id": "3b66ab1e",
   "metadata": {},
   "outputs": [],
   "source": [
    "dataTrain = dataset[:int(len(dataset)*0.9)]\n",
    "dataTest = dataset[int(len(dataset)*0.9):]"
   ]
  },
  {
   "cell_type": "code",
   "execution_count": 81,
   "id": "e1163e7c",
   "metadata": {},
   "outputs": [],
   "source": [
    "df_train = pd.DataFrame(dataTrain)\n",
    "df_test = pd.DataFrame(dataTest)"
   ]
  },
  {
   "cell_type": "code",
   "execution_count": 82,
   "id": "fb03b18b",
   "metadata": {},
   "outputs": [],
   "source": [
    "userMedian = defaultdict(list)\n",
    "itemMedian = defaultdict(list)\n",
    "\n",
    "reviewsPerUser = defaultdict(list)\n",
    "reviewsPerItem = defaultdict(list)\n",
    "\n",
    "ratingPerUser = defaultdict(list)\n",
    "ratingPerItem = defaultdict(list)\n",
    "\n",
    "\n",
    "for d in dataset:\n",
    "    u,i,h_t = d['userID'],d['gameID'], d['hours_transformed']\n",
    "    ratingPerUser[u].append(h_t)\n",
    "    ratingPerItem[i].append(h_t)\n",
    "\n",
    "for user in ratingPerUser:\n",
    "    userMedian[user] = statistics.median(ratingPerUser[user])\n",
    "\n",
    "for item in ratingPerItem:\n",
    "    itemMedian[item] = statistics.median(ratingPerItem[item])\n",
    "\n",
    "for user in ratingPerUser:\n",
    "    userMedian[user] = statistics.median(ratingPerUser[user])\n",
    "\n",
    "for item in ratingPerItem:\n",
    "    itemMedian[item] = statistics.median(ratingPerItem[item])"
   ]
  },
  {
   "cell_type": "code",
   "execution_count": 83,
   "id": "416c32c6",
   "metadata": {},
   "outputs": [],
   "source": [
    "answers['Q11'] = [itemMedian['g35322304'], userMedian['u55351001']]"
   ]
  },
  {
   "cell_type": "code",
   "execution_count": 84,
   "id": "841df3e0",
   "metadata": {},
   "outputs": [],
   "source": [
    "assertFloatList(answers['Q11'], 2)"
   ]
  },
  {
   "cell_type": "code",
   "execution_count": 85,
   "id": "19378bc4",
   "metadata": {},
   "outputs": [],
   "source": [
    "### Question 12"
   ]
  },
  {
   "cell_type": "code",
   "execution_count": 86,
   "id": "db5612a9",
   "metadata": {},
   "outputs": [],
   "source": [
    "global_median = df_train['hours_transformed'].median()\n",
    "def f12(u,i):\n",
    "    if u in ratingPerUser:\n",
    "        if i in ratingPerItem:\n",
    "            if itemMedian[i] > global_median:\n",
    "                return 1\n",
    "        elif userMedian[u] > global_median:\n",
    "                return 1\n",
    "    return 0"
   ]
  },
  {
   "cell_type": "code",
   "execution_count": 87,
   "id": "91c6f925",
   "metadata": {},
   "outputs": [],
   "source": [
    "preds = [f12(d['userID'], d['gameID']) for d in dataTest]"
   ]
  },
  {
   "cell_type": "code",
   "execution_count": 88,
   "id": "349a18e3",
   "metadata": {},
   "outputs": [
    {
     "data": {
      "text/plain": [
       "3.4724877714627436"
      ]
     },
     "execution_count": 88,
     "metadata": {},
     "output_type": "execute_result"
    }
   ],
   "source": [
    "global_median"
   ]
  },
  {
   "cell_type": "code",
   "execution_count": 89,
   "id": "4b2a0191",
   "metadata": {},
   "outputs": [],
   "source": [
    "y = df_test['hours_transformed'] > global_median"
   ]
  },
  {
   "cell_type": "code",
   "execution_count": 90,
   "id": "d98b7500",
   "metadata": {},
   "outputs": [],
   "source": [
    "accuracy = accuracy_score(y, preds)"
   ]
  },
  {
   "cell_type": "code",
   "execution_count": 91,
   "id": "2b119ce0",
   "metadata": {},
   "outputs": [
    {
     "data": {
      "text/plain": [
       "0.7468"
      ]
     },
     "execution_count": 91,
     "metadata": {},
     "output_type": "execute_result"
    }
   ],
   "source": [
    "accuracy"
   ]
  },
  {
   "cell_type": "code",
   "execution_count": 92,
   "id": "fc9a4ae3",
   "metadata": {},
   "outputs": [],
   "source": [
    "answers['Q12'] = accuracy"
   ]
  },
  {
   "cell_type": "code",
   "execution_count": 93,
   "id": "4f139511",
   "metadata": {},
   "outputs": [],
   "source": [
    "assertFloat(answers['Q12'])"
   ]
  },
  {
   "cell_type": "code",
   "execution_count": 94,
   "id": "4b356b97",
   "metadata": {},
   "outputs": [],
   "source": [
    "### Question 13"
   ]
  },
  {
   "cell_type": "code",
   "execution_count": 95,
   "id": "483a29b8",
   "metadata": {},
   "outputs": [],
   "source": [
    "usersPerItem = defaultdict(set) # Maps an item to the users who rated it\n",
    "itemsPerUser = defaultdict(set) # Maps a user to the items that they rated\n",
    "itemNames = {}\n",
    "\n",
    "for d in dataset:\n",
    "    user,item = d['userID'], d['gameID']\n",
    "    usersPerItem[item].add(user)\n",
    "    itemsPerUser[user].add(item)"
   ]
  },
  {
   "cell_type": "code",
   "execution_count": 96,
   "id": "225d6855",
   "metadata": {},
   "outputs": [],
   "source": [
    "def Jaccard(s1, s2):\n",
    "    numerator = len(s1. intersection (s2))\n",
    "    denominator = len(s1.union(s2))\n",
    "    return numerator / denominator"
   ]
  },
  {
   "cell_type": "code",
   "execution_count": 97,
   "id": "2b0799c0",
   "metadata": {},
   "outputs": [],
   "source": [
    "def mostSimilar (i, K): \n",
    "    similarities = []\n",
    "    users = usersPerItem [i] # Users who have purchased i\n",
    "    for j in usersPerItem : # Compute similarity against each\n",
    "        if j == i: continue\n",
    "        sim = Jaccard(users , usersPerItem [j])\n",
    "        similarities .append ((sim ,j))\n",
    "    similarities .sort(reverse=True) # Sort to find the most\n",
    "    return similarities [:K]"
   ]
  },
  {
   "cell_type": "code",
   "execution_count": 98,
   "id": "5a644542",
   "metadata": {},
   "outputs": [],
   "source": [
    "ms = mostSimilar(dataset[0]['gameID'], 10)"
   ]
  },
  {
   "cell_type": "code",
   "execution_count": 99,
   "id": "d2202e12",
   "metadata": {},
   "outputs": [],
   "source": [
    "answers['Q13'] = [ms[0][0], ms[-1][0]]"
   ]
  },
  {
   "cell_type": "code",
   "execution_count": 100,
   "id": "df55cc6d",
   "metadata": {},
   "outputs": [],
   "source": [
    "assertFloatList(answers['Q13'], 2)"
   ]
  },
  {
   "cell_type": "code",
   "execution_count": 101,
   "id": "a266cafb",
   "metadata": {},
   "outputs": [],
   "source": [
    "### Question 14"
   ]
  },
  {
   "cell_type": "code",
   "execution_count": 102,
   "id": "4b00980f",
   "metadata": {},
   "outputs": [],
   "source": [
    "def Cosine(i1, i2, ratingDict):\n",
    "    # Between two items\n",
    "    inter = usersPerItem[i1].intersection(usersPerItem[i2])\n",
    "    numer = 0\n",
    "    denom1 = 0\n",
    "    denom2 = 0\n",
    "    for u in inter:\n",
    "        numer += ratingDict[(u, i1)] * ratingDict[(u, i2)]\n",
    "    for u in usersPerItem[i1]:\n",
    "        denom1 += ratingDict[(u, i1)]**2\n",
    "    for u in usersPerItem[i2]:\n",
    "        denom2 += ratingDict[(u, i2)]**2\n",
    "    denom = math.sqrt(denom1) * math.sqrt(denom2)\n",
    "    if denom == 0:\n",
    "        return 0\n",
    "    return numer / denom\n",
    "\n",
    "def mostSimilar(i, K, ratingDict):\n",
    "    similarities = []\n",
    "    users = usersPerItem[i]  # Users who have purchased item i\n",
    "    for j in usersPerItem:  # Compute similarity against each item\n",
    "        if j == i:\n",
    "            continue\n",
    "        sim = Cosine(i, j, ratingDict)\n",
    "        similarities.append((sim, j))\n",
    "    similarities.sort(reverse=True, key=lambda x: x[0])  # Sort to find the most similar\n",
    "    return similarities[:K]\n",
    "\n",
    "# Initialize ratingDict based on your dataset\n",
    "ratingDict = {}\n",
    "for d in dataset:\n",
    "    u, i = d['userID'], d['gameID']\n",
    "    lab = 1 if d['hours_transformed'] > global_median else -1\n",
    "    ratingDict[(u, i)] = lab\n",
    "\n",
    "# Calculate the most similar items to the first gameID in the dataset\n",
    "ms = mostSimilar(dataset[0]['gameID'], 10, ratingDict)"
   ]
  },
  {
   "cell_type": "code",
   "execution_count": 103,
   "id": "5fed0ed3",
   "metadata": {},
   "outputs": [],
   "source": [
    "answers['Q14'] = [ms[0][0], ms[-1][0]]"
   ]
  },
  {
   "cell_type": "code",
   "execution_count": 104,
   "id": "8308daf9",
   "metadata": {
    "scrolled": true
   },
   "outputs": [],
   "source": [
    "assertFloatList(answers['Q14'], 2)"
   ]
  },
  {
   "cell_type": "code",
   "execution_count": 105,
   "id": "61c3358a",
   "metadata": {},
   "outputs": [],
   "source": [
    "### Question 15"
   ]
  },
  {
   "cell_type": "code",
   "execution_count": 106,
   "id": "63a5a945",
   "metadata": {},
   "outputs": [],
   "source": [
    "ratingDict = {}\n",
    "\n",
    "for d in dataset:\n",
    "    u,i = d['userID'], d['gameID']\n",
    "    lab = d['hours_transformed']\n",
    "    ratingDict[(u,i)] = lab"
   ]
  },
  {
   "cell_type": "code",
   "execution_count": 107,
   "id": "95406dc3",
   "metadata": {},
   "outputs": [],
   "source": [
    "ms = mostSimilar(dataset[0]['gameID'], 10, ratingDict)"
   ]
  },
  {
   "cell_type": "code",
   "execution_count": 108,
   "id": "ae95f22d",
   "metadata": {},
   "outputs": [],
   "source": [
    "answers['Q15'] = [ms[0][0], ms[-1][0]]"
   ]
  },
  {
   "cell_type": "code",
   "execution_count": 109,
   "id": "eac38017",
   "metadata": {},
   "outputs": [],
   "source": [
    "assertFloatList(answers['Q15'], 2)"
   ]
  },
  {
   "cell_type": "code",
   "execution_count": 110,
   "id": "436d2691",
   "metadata": {},
   "outputs": [],
   "source": [
    "f = open(\"answers_midterm.txt\", 'w')\n",
    "f.write(str(answers) + '\\n')\n",
    "f.close()"
   ]
  },
  {
   "cell_type": "code",
   "execution_count": 111,
   "id": "b53acc41",
   "metadata": {},
   "outputs": [
    {
     "data": {
      "text/plain": [
       "{'Q1': [0.007857269704335982, 570936.2842458971],\n",
       " 'Q2': 565419.5340402178,\n",
       " 'Q3': 565405.439588582,\n",
       " 'Q4': [75735.70018272949,\n",
       "  90.35613031985211,\n",
       "  'MAE is better in this case because we are just trying to find the generalized result'],\n",
       " 'Q5': [5.255254235328314, 78668.5650295673],\n",
       " 'Q6': [1000, 581432.8208480754, 560786.7645482325],\n",
       " 'Q7': [3.4724877714627436, 19913],\n",
       " 'Q8': [24656, 67811, 20007, 62526, 0.472506390561468],\n",
       " 'Q9': [0.5454545454545454, 0.5454545454545454, 0.67, 0.685],\n",
       " 'Q10': [3.7, 0.4260170326351089],\n",
       " 'Q11': [0.5849625007211562, 2.350497247084133],\n",
       " 'Q12': 0.7468,\n",
       " 'Q13': [0.07988165680473373, 0.04390243902439024],\n",
       " 'Q14': [0.10251693271055495, 0.061667331307041336],\n",
       " 'Q15': [0.3301567230633555, 0.12290154232706599]}"
      ]
     },
     "execution_count": 111,
     "metadata": {},
     "output_type": "execute_result"
    }
   ],
   "source": [
    "answers"
   ]
  }
 ],
 "metadata": {
  "kernelspec": {
   "display_name": "Python 3 (ipykernel)",
   "language": "python",
   "name": "python3"
  },
  "language_info": {
   "codemirror_mode": {
    "name": "ipython",
    "version": 3
   },
   "file_extension": ".py",
   "mimetype": "text/x-python",
   "name": "python",
   "nbconvert_exporter": "python",
   "pygments_lexer": "ipython3",
   "version": "3.10.9"
  }
 },
 "nbformat": 4,
 "nbformat_minor": 5
}
