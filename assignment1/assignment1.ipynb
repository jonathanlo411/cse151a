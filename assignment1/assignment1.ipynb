{
 "cells": [
  {
   "cell_type": "markdown",
   "id": "caed6b72",
   "metadata": {},
   "source": [
    "# Assigment 1"
   ]
  },
  {
   "cell_type": "markdown",
   "id": "37a8dd4c",
   "metadata": {},
   "source": [
    "## Overhead"
   ]
  },
  {
   "cell_type": "code",
   "execution_count": 74,
   "id": "4463ac60",
   "metadata": {},
   "outputs": [],
   "source": [
    "# Imports\n",
    "import gzip\n",
    "import math\n",
    "import torch\n",
    "import spacy\n",
    "import warnings\n",
    "import pandas as pd\n",
    "import numpy as np\n",
    "\n",
    "from datetime import date\n",
    "from rake_nltk import Rake\n",
    "from collections import defaultdict\n",
    "from tqdm.notebook import tqdm\n",
    "from sklearn.cluster import KMeans\n",
    "from sklearn.feature_extraction.text import CountVectorizer\n",
    "from sklearn.decomposition import LatentDirichletAllocation\n",
    "from transformers import BertTokenizer, BertModel"
   ]
  },
  {
   "cell_type": "code",
   "execution_count": 75,
   "id": "d021ced1",
   "metadata": {},
   "outputs": [],
   "source": [
    "# Notebook setup\n",
    "tqdm.pandas()\n",
    "device = torch.device(\"cuda\" if torch.cuda.is_available() else \"cpu\")\n",
    "warnings.simplefilter(\"ignore\")"
   ]
  },
  {
   "cell_type": "code",
   "execution_count": 76,
   "id": "880c5657",
   "metadata": {},
   "outputs": [
    {
     "name": "stderr",
     "output_type": "stream",
     "text": [
      "Some weights of the model checkpoint at bert-base-uncased were not used when initializing BertModel: ['cls.predictions.bias', 'cls.seq_relationship.weight', 'cls.predictions.transform.LayerNorm.weight', 'cls.predictions.transform.dense.bias', 'cls.predictions.transform.LayerNorm.bias', 'cls.predictions.transform.dense.weight', 'cls.predictions.decoder.weight', 'cls.seq_relationship.bias']\n",
      "- This IS expected if you are initializing BertModel from the checkpoint of a model trained on another task or with another architecture (e.g. initializing a BertForSequenceClassification model from a BertForPreTraining model).\n",
      "- This IS NOT expected if you are initializing BertModel from the checkpoint of a model that you expect to be exactly identical (initializing a BertForSequenceClassification model from a BertForSequenceClassification model).\n"
     ]
    }
   ],
   "source": [
    "# Helper model load\n",
    "nlp = spacy.load(\"en_core_web_sm\")\n",
    "tokenizer = BertTokenizer.from_pretrained('bert-base-uncased')\n",
    "model = BertModel.from_pretrained('bert-base-uncased')\n",
    "model = model.to(device)"
   ]
  },
  {
   "cell_type": "code",
   "execution_count": 6,
   "id": "932493c8",
   "metadata": {},
   "outputs": [
    {
     "data": {
      "application/vnd.jupyter.widget-view+json": {
       "model_id": "d0806cfe4dae49edb342cc83588b7cdd",
       "version_major": 2,
       "version_minor": 0
      },
      "text/plain": [
       "  0%|          | 0/175000 [00:00<?, ?it/s]"
      ]
     },
     "metadata": {},
     "output_type": "display_data"
    }
   ],
   "source": [
    "# Data load\n",
    "def readJSON(path):\n",
    "    for l in tqdm(gzip.open(path, 'rt', encoding='utf-8'), total=175000):\n",
    "        d = eval(l)\n",
    "        u = d['userID']\n",
    "        try:\n",
    "            g = d['gameID']\n",
    "        except Exception as e:\n",
    "            g = None\n",
    "        yield u,g,d\n",
    "        \n",
    "allHours = []\n",
    "userHours = defaultdict(list)\n",
    "for user,game,d in readJSON(\"./../data/train.json.gz\"):\n",
    "    allHours.append(d)\n",
    "    userHours[user].append(d)"
   ]
  },
  {
   "cell_type": "markdown",
   "id": "5bc5a534",
   "metadata": {},
   "source": [
    "## Proccessing"
   ]
  },
  {
   "cell_type": "code",
   "execution_count": 7,
   "id": "fb5bd906",
   "metadata": {
    "scrolled": true
   },
   "outputs": [
    {
     "data": {
      "text/html": [
       "<div>\n",
       "<style scoped>\n",
       "    .dataframe tbody tr th:only-of-type {\n",
       "        vertical-align: middle;\n",
       "    }\n",
       "\n",
       "    .dataframe tbody tr th {\n",
       "        vertical-align: top;\n",
       "    }\n",
       "\n",
       "    .dataframe thead th {\n",
       "        text-align: right;\n",
       "    }\n",
       "</style>\n",
       "<table border=\"1\" class=\"dataframe\">\n",
       "  <thead>\n",
       "    <tr style=\"text-align: right;\">\n",
       "      <th></th>\n",
       "      <th>hours</th>\n",
       "      <th>gameID</th>\n",
       "      <th>hours_transformed</th>\n",
       "      <th>early_access</th>\n",
       "      <th>date</th>\n",
       "      <th>text</th>\n",
       "      <th>userID</th>\n",
       "      <th>found_funny</th>\n",
       "      <th>user_id</th>\n",
       "      <th>compensation</th>\n",
       "    </tr>\n",
       "  </thead>\n",
       "  <tbody>\n",
       "    <tr>\n",
       "      <th>0</th>\n",
       "      <td>0.3</td>\n",
       "      <td>g35322304</td>\n",
       "      <td>0.378512</td>\n",
       "      <td>False</td>\n",
       "      <td>2015-04-08</td>\n",
       "      <td>+1</td>\n",
       "      <td>u55351001</td>\n",
       "      <td>NaN</td>\n",
       "      <td>NaN</td>\n",
       "      <td>NaN</td>\n",
       "    </tr>\n",
       "    <tr>\n",
       "      <th>1</th>\n",
       "      <td>63.5</td>\n",
       "      <td>g49368897</td>\n",
       "      <td>6.011227</td>\n",
       "      <td>False</td>\n",
       "      <td>2017-05-20</td>\n",
       "      <td>If you want to sit in queue for 10-20min and h...</td>\n",
       "      <td>u70666506</td>\n",
       "      <td>1.0</td>\n",
       "      <td>76561198030408772</td>\n",
       "      <td>NaN</td>\n",
       "    </tr>\n",
       "    <tr>\n",
       "      <th>2</th>\n",
       "      <td>0.2</td>\n",
       "      <td>g73495588</td>\n",
       "      <td>0.263034</td>\n",
       "      <td>False</td>\n",
       "      <td>2017-01-27</td>\n",
       "      <td>I was really not a fan of the gameplay. Games ...</td>\n",
       "      <td>u18612571</td>\n",
       "      <td>NaN</td>\n",
       "      <td>NaN</td>\n",
       "      <td>NaN</td>\n",
       "    </tr>\n",
       "  </tbody>\n",
       "</table>\n",
       "</div>"
      ],
      "text/plain": [
       "   hours     gameID  hours_transformed  early_access        date  \\\n",
       "0    0.3  g35322304           0.378512         False  2015-04-08   \n",
       "1   63.5  g49368897           6.011227         False  2017-05-20   \n",
       "2    0.2  g73495588           0.263034         False  2017-01-27   \n",
       "\n",
       "                                                text     userID  found_funny  \\\n",
       "0                                                 +1  u55351001          NaN   \n",
       "1  If you want to sit in queue for 10-20min and h...  u70666506          1.0   \n",
       "2  I was really not a fan of the gameplay. Games ...  u18612571          NaN   \n",
       "\n",
       "             user_id compensation  \n",
       "0                NaN          NaN  \n",
       "1  76561198030408772          NaN  \n",
       "2                NaN          NaN  "
      ]
     },
     "execution_count": 7,
     "metadata": {},
     "output_type": "execute_result"
    }
   ],
   "source": [
    "# ETL\n",
    "df = pd.DataFrame(allHours)\n",
    "df.head(3)"
   ]
  },
  {
   "cell_type": "code",
   "execution_count": 35,
   "id": "a2bc6d68",
   "metadata": {
    "scrolled": false
   },
   "outputs": [],
   "source": [
    "# getting played\n",
    "df_played = df[['userID', 'gameID']]\n",
    "df_played['played'] = 1"
   ]
  },
  {
   "cell_type": "code",
   "execution_count": 30,
   "id": "ed2eef12",
   "metadata": {
    "scrolled": false
   },
   "outputs": [
    {
     "data": {
      "application/vnd.jupyter.widget-view+json": {
       "model_id": "3ce081a3a2544bdabc809675e6fa598a",
       "version_major": 2,
       "version_minor": 0
      },
      "text/plain": [
       "  0%|          | 0/175000 [00:00<?, ?it/s]"
      ]
     },
     "metadata": {},
     "output_type": "display_data"
    }
   ],
   "source": [
    "# Create non existing\n",
    "existing_pairs = set(zip(df_played['userID'], df_played['gameID']))\n",
    "df_not_played = pd.DataFrame(columns=['userID', 'gameID', 'played'])\n",
    "\n",
    "for i in tqdm(range(len(df_played))):\n",
    "    user, game, _ = df_played.iloc[i]\n",
    "    not_played_game = None\n",
    "    while not not_played_game or (user, not_played_game) in existing_pairs:\n",
    "        not_played_game = np.random.choice(df_played['gameID'])\n",
    "    df_not_played = df_not_played.append({'userID': user, 'gameID': not_played_game, 'played': 0}, ignore_index=True)"
   ]
  },
  {
   "cell_type": "code",
   "execution_count": 36,
   "id": "4fd8f2ed",
   "metadata": {},
   "outputs": [
    {
     "data": {
      "text/html": [
       "<div>\n",
       "<style scoped>\n",
       "    .dataframe tbody tr th:only-of-type {\n",
       "        vertical-align: middle;\n",
       "    }\n",
       "\n",
       "    .dataframe tbody tr th {\n",
       "        vertical-align: top;\n",
       "    }\n",
       "\n",
       "    .dataframe thead th {\n",
       "        text-align: right;\n",
       "    }\n",
       "</style>\n",
       "<table border=\"1\" class=\"dataframe\">\n",
       "  <thead>\n",
       "    <tr style=\"text-align: right;\">\n",
       "      <th></th>\n",
       "      <th>userID</th>\n",
       "      <th>gameID</th>\n",
       "      <th>played</th>\n",
       "    </tr>\n",
       "  </thead>\n",
       "  <tbody>\n",
       "    <tr>\n",
       "      <th>0</th>\n",
       "      <td>u66610671</td>\n",
       "      <td>g10773791</td>\n",
       "      <td>0</td>\n",
       "    </tr>\n",
       "    <tr>\n",
       "      <th>1</th>\n",
       "      <td>u08543832</td>\n",
       "      <td>g31190276</td>\n",
       "      <td>1</td>\n",
       "    </tr>\n",
       "    <tr>\n",
       "      <th>2</th>\n",
       "      <td>u78094706</td>\n",
       "      <td>g02141122</td>\n",
       "      <td>1</td>\n",
       "    </tr>\n",
       "  </tbody>\n",
       "</table>\n",
       "</div>"
      ],
      "text/plain": [
       "      userID     gameID played\n",
       "0  u66610671  g10773791      0\n",
       "1  u08543832  g31190276      1\n",
       "2  u78094706  g02141122      1"
      ]
     },
     "execution_count": 36,
     "metadata": {},
     "output_type": "execute_result"
    }
   ],
   "source": [
    "# Combining\n",
    "df_combined = pd.concat([df_played, df_not_played])\n",
    "df_combined = df_combined.sample(frac=1).reset_index(drop=True)\n",
    "df_combined.head(3)"
   ]
  },
  {
   "cell_type": "code",
   "execution_count": 8,
   "id": "c610ce87",
   "metadata": {},
   "outputs": [],
   "source": [
    "# Helpers\n",
    "review_dates = list(map(lambda x: date.fromisoformat(x['date']), allHours))\n",
    "TIME_DIFF = max(review_dates) - min(review_dates)\n",
    "MIN_REVIEW_DATE = min(review_dates)\n",
    "\n",
    "def linearTransform(timestamp):\n",
    "    return (date.fromisoformat(timestamp) - MIN_REVIEW_DATE) / TIME_DIFF\n",
    "\n",
    "def reviewExp(timestamp):\n",
    "    return math.exp(timestamp * 0.0001)"
   ]
  },
  {
   "cell_type": "code",
   "execution_count": 13,
   "id": "2764740c",
   "metadata": {},
   "outputs": [],
   "source": [
    "# Feature Engineering\n",
    "df['text_length'] = df['text'].str.len()\n",
    "df['review_date_linear'] = df['date'].transform(linearTransform)\n",
    "df['review_date_exp'] = df['review_date_linear'].transform(reviewExp)"
   ]
  },
  {
   "cell_type": "code",
   "execution_count": null,
   "id": "66ac0c0d",
   "metadata": {},
   "outputs": [],
   "source": []
  },
  {
   "cell_type": "markdown",
   "id": "e73ae6ff",
   "metadata": {},
   "source": [
    "## Testing"
   ]
  },
  {
   "cell_type": "code",
   "execution_count": null,
   "id": "dc99d040",
   "metadata": {},
   "outputs": [],
   "source": []
  }
 ],
 "metadata": {
  "kernelspec": {
   "display_name": "Python 3 (ipykernel)",
   "language": "python",
   "name": "python3"
  },
  "language_info": {
   "codemirror_mode": {
    "name": "ipython",
    "version": 3
   },
   "file_extension": ".py",
   "mimetype": "text/x-python",
   "name": "python",
   "nbconvert_exporter": "python",
   "pygments_lexer": "ipython3",
   "version": "3.10.9"
  }
 },
 "nbformat": 4,
 "nbformat_minor": 5
}
