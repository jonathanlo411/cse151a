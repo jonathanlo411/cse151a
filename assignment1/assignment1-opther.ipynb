{
 "cells": [
  {
   "cell_type": "code",
   "execution_count": 27,
   "id": "0f55c023",
   "metadata": {},
   "outputs": [],
   "source": [
    "import gzip\n",
    "from collections import defaultdict\n",
    "import math\n",
    "import scipy.optimize\n",
    "from sklearn import svm\n",
    "import numpy\n",
    "import string\n",
    "import random\n",
    "import string\n",
    "from sklearn import linear_model\n",
    "import sys\n",
    "from tqdm.notebook import tqdm"
   ]
  },
  {
   "cell_type": "code",
   "execution_count": 2,
   "id": "005c1a02-c5bf-4241-8d00-dc260d36f08f",
   "metadata": {},
   "outputs": [],
   "source": [
    "def assertFloat(x):\n",
    "    assert type(float(x)) == float\n",
    "\n",
    "def assertFloatList(items, N):\n",
    "    assert len(items) == N\n",
    "    assert [type(float(x)) for x in items] == [float]*N"
   ]
  },
  {
   "cell_type": "code",
   "execution_count": 3,
   "id": "cb2abe72",
   "metadata": {},
   "outputs": [],
   "source": [
    "def readGz(path):\n",
    "    for l in gzip.open(path, 'rt'):\n",
    "        yield eval(l)"
   ]
  },
  {
   "cell_type": "code",
   "execution_count": 7,
   "id": "e54fa48f",
   "metadata": {},
   "outputs": [],
   "source": [
    "def readJSON(path):\n",
    "    f = gzip.open(path, 'rt', encoding='utf-8')\n",
    "    f.readline()\n",
    "    for l in f:\n",
    "        d = eval(l)\n",
    "        u = d['userID']\n",
    "        g = d['gameID']\n",
    "        yield u,g,d"
   ]
  },
  {
   "cell_type": "code",
   "execution_count": 9,
   "id": "27aec54d",
   "metadata": {},
   "outputs": [],
   "source": [
    "# Some data structures that will be useful"
   ]
  },
  {
   "cell_type": "code",
   "execution_count": 10,
   "id": "e72d24da",
   "metadata": {},
   "outputs": [],
   "source": [
    "allHours = []\n",
    "for l in readJSON(\"./../data/train.json.gz\"):\n",
    "    allHours.append(l)"
   ]
  },
  {
   "cell_type": "code",
   "execution_count": 11,
   "id": "ccdd3662",
   "metadata": {},
   "outputs": [
    {
     "name": "stdout",
     "output_type": "stream",
     "text": [
      "('u70666506', 'g49368897', {'userID': 'u70666506', 'early_access': False, 'hours': 63.5, 'hours_transformed': 6.011227255423254, 'found_funny': 1, 'text': 'If you want to sit in queue for 10-20min and have 140 ping then this game is perfect for you :)', 'gameID': 'g49368897', 'user_id': '76561198030408772', 'date': '2017-05-20'})\n"
     ]
    }
   ],
   "source": [
    "#print(len(allHours))\n",
    "print(allHours[0])"
   ]
  },
  {
   "cell_type": "code",
   "execution_count": 12,
   "id": "462bd9bd-b657-4571-8fef-eee11d852099",
   "metadata": {},
   "outputs": [],
   "source": [
    "hoursTrain = allHours[:165000]\n",
    "hoursValid = allHours[165000:]"
   ]
  },
  {
   "cell_type": "code",
   "execution_count": 13,
   "id": "c58fd9e5-0ba6-4fef-83c1-315503d75348",
   "metadata": {},
   "outputs": [],
   "source": [
    "##################################################\n",
    "# Play prediction                                #\n",
    "##################################################"
   ]
  },
  {
   "cell_type": "code",
   "execution_count": 14,
   "id": "825ec0b9",
   "metadata": {},
   "outputs": [],
   "source": [
    "# Any other preprocessing...\n",
    "gamesPerUser = defaultdict(set)\n",
    "usersPerGame = defaultdict(set)\n",
    "\n",
    "train_games = set()\n",
    "playersPerGame = defaultdict(int)\n",
    "negative_set = []\n",
    "totalPlayed = 0\n",
    "\n",
    "for user,game, data in hoursTrain:\n",
    "    gamesPerUser[user].add(game)\n",
    "    usersPerGame[game].add(user)\n",
    "    train_games.add(game)\n",
    "    playersPerGame[game] += 1\n",
    "    totalPlayed+= 1\n",
    "\n",
    "train_games = list(train_games)\n",
    "\n",
    "for d in hoursValid:\n",
    "    user = d[0]\n",
    "    not_match = [d for d in train_games if d not in gamesPerUser[user]]\n",
    "    rand = random.randint(1, len(not_match)) - 1\n",
    "    game = not_match[rand]\n",
    "    negative_set.append([user,game, None])\n",
    "\n",
    "mostPopular = [(playersPerGame[x], x) for x in playersPerGame]\n",
    "mostPopular.sort()\n",
    "mostPopular.reverse()"
   ]
  },
  {
   "cell_type": "code",
   "execution_count": 15,
   "id": "715b3224",
   "metadata": {},
   "outputs": [
    {
     "data": {
      "text/plain": [
       "165000"
      ]
     },
     "execution_count": 15,
     "metadata": {},
     "output_type": "execute_result"
    }
   ],
   "source": [
    "totalPlayed"
   ]
  },
  {
   "cell_type": "code",
   "execution_count": 16,
   "id": "4e06cc33-bc60-4b45-be63-8033c17d9fe6",
   "metadata": {},
   "outputs": [],
   "source": [
    "# Any other preprocessing...\n",
    "X_train = [len(d[2]['text']) for d in hoursTrain]"
   ]
  },
  {
   "cell_type": "code",
   "execution_count": 17,
   "id": "7aa30a66-0dcd-4f1f-beb0-a6ba473c9070",
   "metadata": {},
   "outputs": [],
   "source": [
    "# Evaluate baseline strategy\n",
    "\n"
   ]
  },
  {
   "cell_type": "code",
   "execution_count": 18,
   "id": "9400cfd9",
   "metadata": {},
   "outputs": [],
   "source": [
    "# Get games that are the top percentage of games played\n",
    "def pop_val(percentile):\n",
    "    return1 = set()\n",
    "    count = 0\n",
    "    for ic, i in mostPopular:\n",
    "        count += ic\n",
    "        return1.add(i)\n",
    "        if count > totalPlayed*(percentile/100): break\n",
    "    return return1"
   ]
  },
  {
   "cell_type": "code",
   "execution_count": 19,
   "id": "0f420b86",
   "metadata": {},
   "outputs": [],
   "source": [
    "#len(pop_val(99))/len(mostPopular)"
   ]
  },
  {
   "cell_type": "code",
   "execution_count": 20,
   "id": "e7e5d525",
   "metadata": {},
   "outputs": [],
   "source": [
    "def Jaccard(s1, s2):\n",
    "    numer = len(s1.intersection(s2))\n",
    "    denom = len(s1.union(s2))\n",
    "    return numer/denom"
   ]
  },
  {
   "cell_type": "code",
   "execution_count": 21,
   "id": "b6fdac9b",
   "metadata": {},
   "outputs": [],
   "source": [
    "def mostSimilar(i, threshold, popular):\n",
    "    # Iterate through all items j (other than i); compute Jaccard similarity; return most similar\n",
    "    similarities = []\n",
    "    game_pop = 0\n",
    "    users = usersPerGame[i[1]]\n",
    "    if (i[1] not in popular):\n",
    "        return 0\n",
    "\n",
    "    for j in gamesPerUser[i[0]]:  # For all games that the user played\n",
    "        if i[0] == j:          # Dont compare i to i\n",
    "            continue\n",
    "        sim = Jaccard(users, usersPerGame[j])\n",
    "        similarities.append((sim,j))    # Keep track of sim and the item that generated it\n",
    "    similarities.sort(reverse=True)\n",
    "    if (len(similarities) > 0 and ((similarities[0][0] + game_pop) >= threshold )):\n",
    "        return 1\n",
    "    else:\n",
    "        return 0"
   ]
  },
  {
   "cell_type": "code",
   "execution_count": 22,
   "id": "8104e0e2",
   "metadata": {},
   "outputs": [],
   "source": [
    "#percentile = 70\n",
    "#threshold = 0.03\n",
    "def sim_comp(user, game, percentile=65, threshold=0.019):\n",
    "    #print(str(percentile), str(threshold))\n",
    "    popular = pop_val(percentile)\n",
    "    return mostSimilar([user,game], threshold, popular)"
   ]
  },
  {
   "cell_type": "code",
   "execution_count": 23,
   "id": "f3d79c9a",
   "metadata": {},
   "outputs": [],
   "source": [
    "# Testing"
   ]
  },
  {
   "cell_type": "code",
   "execution_count": 24,
   "id": "b2fe839b",
   "metadata": {},
   "outputs": [
    {
     "name": "stdout",
     "output_type": "stream",
     "text": [
      "0.7017201720172017\n"
     ]
    }
   ],
   "source": [
    "valid_set = [1 if (sim_comp(d[0], d[1],65,0.02) == 1) else 0 for d in hoursValid]\n",
    "neg_set = [1 if (sim_comp(d[0], d[1],65,0.02) == 0) else 0 for d in negative_set]\n",
    "precision_4 = (sum(valid_set) + sum(neg_set)) / (len(hoursValid) * 2)\n",
    "print(precision_4)"
   ]
  },
  {
   "cell_type": "code",
   "execution_count": 28,
   "id": "fd5e9707",
   "metadata": {},
   "outputs": [
    {
     "data": {
      "application/vnd.jupyter.widget-view+json": {
       "model_id": "91cd436afd4d4f69b090669a77e721e3",
       "version_major": 2,
       "version_minor": 0
      },
      "text/plain": [
       "  0%|          | 0/41 [00:00<?, ?it/s]"
      ]
     },
     "metadata": {},
     "output_type": "display_data"
    }
   ],
   "source": [
    "tester_file = open(\"test.txt\", 'w')\n",
    "for i in tqdm(range(41)):\n",
    "    threshold = 0.00 + i * 0.001\n",
    "    #for j in range(21):\n",
    "    percentile = 65\n",
    "    valid_set = [1 if (sim_comp(d[0], d[1], percentile, threshold) == 1) else 0 for d in hoursValid]\n",
    "    neg_set = [1 if (sim_comp(d[0], d[1], percentile, threshold) == 0) else 0 for d in negative_set]\n",
    "    precision_4 = (sum(valid_set) + sum(neg_set)) / (len(hoursValid) * 2)\n",
    "    tester_file.write(\"Threshold: \" + str(threshold) +\" Percentile: \" + str(percentile) +\" Precision: \"+ str(precision_4) + \" \\n\")\n",
    "\n",
    "tester_file.close()"
   ]
  },
  {
   "cell_type": "code",
   "execution_count": null,
   "id": "56f1422f",
   "metadata": {},
   "outputs": [],
   "source": [
    "# Reporting results"
   ]
  },
  {
   "cell_type": "code",
   "execution_count": 40,
   "id": "75f81286-487d-494a-8ee8-a42c1aca6eb7",
   "metadata": {},
   "outputs": [],
   "source": [
    "predictions = open(\"predictions_Played.csv\", 'w')\n",
    "for l in open(\"./../data/pairs_Played.csv\"):\n",
    "    if l.startswith(\"userID\"):\n",
    "        predictions.write(l)\n",
    "        continue\n",
    "    u,g = l.strip().split(',')\n",
    "    \n",
    "    # Logic...\n",
    "    pred = sim_comp(u,g)\n",
    "    _ = predictions.write(u + ',' + g + ',' + str(pred) + '\\n')\n",
    "\n",
    "predictions.close()"
   ]
  },
  {
   "cell_type": "code",
   "execution_count": 41,
   "id": "c82a7a00",
   "metadata": {},
   "outputs": [],
   "source": [
    "##################################################\n",
    "# Hours played prediction                        #\n",
    "##################################################"
   ]
  },
  {
   "cell_type": "code",
   "execution_count": 42,
   "id": "52e7e8ef",
   "metadata": {},
   "outputs": [],
   "source": [
    "hoursPerUser = defaultdict(list)\n",
    "hoursPerItem = defaultdict(list)\n",
    "hours_pergameuser = defaultdict(int)\n",
    "\n",
    "for d in hoursTrain:\n",
    "    hoursPerItem[d[1]].append(d[2]['hours_transformed'])\n",
    "    hoursPerUser[d[0]].append(d[2]['hours_transformed'])\n",
    "    hours_pergameuser[d[0], d[1]] = (d[2]['hours_transformed'])"
   ]
  },
  {
   "cell_type": "code",
   "execution_count": 43,
   "id": "e780536b",
   "metadata": {},
   "outputs": [
    {
     "name": "stdout",
     "output_type": "stream",
     "text": [
      "6.011227255423254\n"
     ]
    }
   ],
   "source": [
    "trainHours = [r[2]['hours_transformed'] for r in hoursTrain]\n",
    "globalAverage = sum(trainHours) * 1.0 / len(trainHours)\n",
    "print(trainHours[0])\n",
    "alpha = globalAverage # Could initialize anywhere, this is a guess"
   ]
  },
  {
   "cell_type": "code",
   "execution_count": 44,
   "id": "93f29e4b",
   "metadata": {},
   "outputs": [],
   "source": [
    "alpha = globalAverage\n",
    "betaU = {}\n",
    "betaI= {}\n",
    "lowest = sys.float_info.max\n",
    "for u in hoursPerUser:\n",
    "    betaU[u] = 0\n",
    "\n",
    "for g in hoursPerItem:\n",
    "    betaI[g] = 0"
   ]
  },
  {
   "cell_type": "code",
   "execution_count": 45,
   "id": "68a0e2c8",
   "metadata": {},
   "outputs": [],
   "source": [
    "def iterate(alpha, betaU, betaI, lamb):\n",
    "    # Run alpha\n",
    "    alpha = sum([hours_pergameuser[user,game] - (betaU[user] + betaI[game]) for  user,game,data in hoursTrain])\n",
    "    alpha = alpha / len(hoursTrain)\n",
    "\n",
    "    # Run betaU\n",
    "    for user in gamesPerUser:\n",
    "        betaU[user] = sum([hours_pergameuser[user, game] - (alpha + betaI[game]) for game in gamesPerUser[user]])\n",
    "        betaU[user] = betaU[user] / (len(gamesPerUser[user]) + lamb)\n",
    "\n",
    "    # Run betaI\n",
    "    for game in usersPerGame:\n",
    "        betaI[game] = sum(hours_pergameuser[user, game] - (alpha + betaU[user]) for user in usersPerGame[game])\n",
    "        betaI[game] = betaI[game] / (len(usersPerGame[game]) + lamb)\n",
    "\n",
    "    #mse = 0\n",
    "    #for u,g,d in hoursTrain:\n",
    "    #    r = d['hours_transformed']\n",
    "    #    prediction = alpha + betaU[u] + betaI[g]\n",
    "    #    mse += (r - prediction)**2\n",
    "    #regularizer = 0\n",
    "    #for u in betaU:\n",
    "    #    regularizer += betaU[u]**2\n",
    "    #for g in betaI:\n",
    "    #    regularizer += betaI[g]**2\n",
    "    #mse /= len(hoursTrain)\n",
    "    #return mse, mse + lamb*regularizer\n",
    "    # Get error\n",
    "    ret = 0\n",
    "    for d in hoursTrain:\n",
    "        ret += alpha + betaU[d[0]] + betaI[d[1]] - hours_pergameuser[d[0], d[1]]\n",
    "    for u in betaU:\n",
    "        ret += betaU[u]**2\n",
    "    for i in betaI:\n",
    "        ret += betaI[i]**2\n",
    "    return ret"
   ]
  },
  {
   "cell_type": "code",
   "execution_count": 46,
   "id": "c2af2c37",
   "metadata": {},
   "outputs": [
    {
     "ename": "TypeError",
     "evalue": "cannot unpack non-iterable float object",
     "output_type": "error",
     "traceback": [
      "\u001b[1;31m---------------------------------------------------------------------------\u001b[0m",
      "\u001b[1;31mTypeError\u001b[0m                                 Traceback (most recent call last)",
      "Cell \u001b[1;32mIn[46], line 1\u001b[0m\n\u001b[1;32m----> 1\u001b[0m mse,objective \u001b[38;5;241m=\u001b[39m iterate(alpha,betaU, betaI, \u001b[38;5;241m5\u001b[39m)\n\u001b[0;32m      2\u001b[0m newMSE,newObjective \u001b[38;5;241m=\u001b[39m iterate(alpha,betaU, betaI, \u001b[38;5;241m5\u001b[39m)\n\u001b[0;32m      3\u001b[0m iterations \u001b[38;5;241m=\u001b[39m \u001b[38;5;241m2\u001b[39m\n",
      "\u001b[1;31mTypeError\u001b[0m: cannot unpack non-iterable float object"
     ]
    }
   ],
   "source": [
    "mse,objective = iterate(alpha,betaU, betaI, 5)\n",
    "newMSE,newObjective = iterate(alpha,betaU, betaI, 5)\n",
    "iterations = 2"
   ]
  },
  {
   "cell_type": "code",
   "execution_count": null,
   "id": "78d89e8f",
   "metadata": {},
   "outputs": [],
   "source": [
    "while iterations < 10 or objective - newObjective > 0.01:\n",
    "    mse, objective = newMSE, newObjective\n",
    "    newMSE, newObjective = iterate(alpha,betaU, betaI, 5)\n",
    "    iterations += 1\n",
    "    print(\"Objective after \"\n",
    "        + str(iterations) + \" iterations = \" + str(newObjective))\n",
    "    print(\"MSE after \"\n",
    "        + str(iterations) + \" iterations = \" + str(newMSE))"
   ]
  },
  {
   "cell_type": "code",
   "execution_count": 39,
   "id": "5da0fe06",
   "metadata": {},
   "outputs": [
    {
     "data": {
      "application/vnd.jupyter.widget-view+json": {
       "model_id": "2e5d8b6ea5ac40b6b70538224bf80309",
       "version_major": 2,
       "version_minor": 0
      },
      "text/plain": [
       "  0%|          | 0/500 [00:00<?, ?it/s]"
      ]
     },
     "metadata": {},
     "output_type": "display_data"
    }
   ],
   "source": [
    "best_betaU = betaU.copy()\n",
    "best_betaI = betaI.copy()\n",
    "best_alpha = alpha\n",
    "lamda_q8 = 4.0\n",
    "for i in tqdm(range(500)):\n",
    "    train_val = iterate(alpha, betaU, betaI, lamda_q8)\n",
    "    #print(train_val)\n",
    "    if (train_val < lowest):\n",
    "        best_alpha = alpha\n",
    "        best_betaU  = betaU.copy()\n",
    "        best_betaI = betaI.copy()\n",
    "        lowest = train_val "
   ]
  },
  {
   "cell_type": "code",
   "execution_count": 47,
   "id": "41eba93c",
   "metadata": {},
   "outputs": [],
   "source": [
    "betaI = best_betaI\n",
    "betaU = best_betaU"
   ]
  },
  {
   "cell_type": "code",
   "execution_count": 48,
   "id": "f5cfe81d",
   "metadata": {},
   "outputs": [],
   "source": [
    "def get_ui(user, game):\n",
    "    return [betaU[user], betaI[game]]"
   ]
  },
  {
   "cell_type": "code",
   "execution_count": 49,
   "id": "3b4a1a3b",
   "metadata": {},
   "outputs": [],
   "source": [
    "# Testing"
   ]
  },
  {
   "cell_type": "code",
   "execution_count": 50,
   "id": "e1a577bf",
   "metadata": {},
   "outputs": [],
   "source": [
    "def MSE(predictions, labels):\n",
    "    differences = [(x-y)**2 for x,y in zip(predictions,labels)]\n",
    "    return sum(differences) / len(differences)"
   ]
  },
  {
   "cell_type": "code",
   "execution_count": 53,
   "id": "743c903f",
   "metadata": {},
   "outputs": [
    {
     "data": {
      "text/plain": [
       "3.334494693630515"
      ]
     },
     "execution_count": 53,
     "metadata": {},
     "output_type": "execute_result"
    }
   ],
   "source": [
    "pred = []\n",
    "label = []\n",
    "for d in hoursValid:\n",
    "    label.append(d[2]['hours_transformed'])\n",
    "    pred.append(alpha + betaU[d[0]] + betaI[d[1]])\n",
    "\n",
    "validMSE = MSE(pred,label)\n",
    "validMSE"
   ]
  },
  {
   "cell_type": "code",
   "execution_count": 54,
   "id": "90a7cd55-1f58-42a5-8c35-4debf80a3e3e",
   "metadata": {},
   "outputs": [],
   "source": [
    "predictions = open(\"predictions_Hours.csv\", 'w')\n",
    "for l in open(\"./../data/pairs_Hours.csv\"):\n",
    "    if l.startswith(\"userID\"):\n",
    "        predictions.write(l)\n",
    "        continue\n",
    "    u,g = l.strip().split(',')\n",
    "    \n",
    "    # Logic...\n",
    "    bu, bi = get_ui(u,g)\n",
    "    _ = predictions.write(u + ',' + g + ',' + str(alpha + bu + bi) + '\\n')\n",
    "\n",
    "predictions.close()"
   ]
  },
  {
   "cell_type": "code",
   "execution_count": null,
   "id": "9676dc3e",
   "metadata": {},
   "outputs": [],
   "source": []
  }
 ],
 "metadata": {
  "kernelspec": {
   "display_name": "Python 3 (ipykernel)",
   "language": "python",
   "name": "python3"
  },
  "language_info": {
   "codemirror_mode": {
    "name": "ipython",
    "version": 3
   },
   "file_extension": ".py",
   "mimetype": "text/x-python",
   "name": "python",
   "nbconvert_exporter": "python",
   "pygments_lexer": "ipython3",
   "version": "3.10.9"
  }
 },
 "nbformat": 4,
 "nbformat_minor": 5
}
