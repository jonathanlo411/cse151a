{
 "cells": [
  {
   "cell_type": "code",
   "execution_count": 1,
   "id": "07ad6b17",
   "metadata": {},
   "outputs": [],
   "source": [
    "import json\n",
    "from collections import defaultdict\n",
    "from sklearn import linear_model\n",
    "from sklearn.metrics import mean_squared_error\n",
    "import numpy as np\n",
    "import random\n",
    "import gzip\n",
    "import dateutil.parser\n",
    "import math\n",
    "import pandas as pd\n",
    "from sklearn.preprocessing import LabelEncoder"
   ]
  },
  {
   "cell_type": "code",
   "execution_count": 2,
   "id": "0e6a1e4d-c80f-4030-8770-1d719320bb93",
   "metadata": {},
   "outputs": [],
   "source": [
    "answers = {}"
   ]
  },
  {
   "cell_type": "code",
   "execution_count": 3,
   "id": "f6885040-d9f2-461a-a2c8-ba31f83eafaa",
   "metadata": {},
   "outputs": [],
   "source": [
    "def assertFloat(x):\n",
    "    assert type(float(x)) == float\n",
    "\n",
    "def assertFloatList(items, N):\n",
    "    assert len(items) == N\n",
    "    assert [type(float(x)) for x in items] == [float]*N"
   ]
  },
  {
   "cell_type": "code",
   "execution_count": 4,
   "id": "ab71afc7-f078-4439-ba7d-5e348f44266c",
   "metadata": {},
   "outputs": [],
   "source": [
    "### Question 1"
   ]
  },
  {
   "cell_type": "code",
   "execution_count": 5,
   "id": "7f8461d9-fb56-4218-b3f7-7c153005baa3",
   "metadata": {},
   "outputs": [],
   "source": [
    "f = gzip.open(\"./../data/fantasy_10000.json.gz\")\n",
    "dataset = []\n",
    "for l in f:\n",
    "    dataset.append(json.loads(l))"
   ]
  },
  {
   "cell_type": "code",
   "execution_count": 6,
   "id": "af6a53aa",
   "metadata": {
    "scrolled": false
   },
   "outputs": [
    {
     "data": {
      "text/plain": [
       "14306"
      ]
     },
     "execution_count": 6,
     "metadata": {},
     "output_type": "execute_result"
    }
   ],
   "source": [
    "# Get max review length\n",
    "MAX_REVIEW_LENGTH = max(list(map(lambda x: len(x['review_text']), dataset)))\n",
    "MAX_REVIEW_LENGTH"
   ]
  },
  {
   "cell_type": "code",
   "execution_count": 7,
   "id": "9dc58396-c9f4-4a94-b62e-74e03064ca24",
   "metadata": {},
   "outputs": [],
   "source": [
    "def feature(datum):\n",
    "    return len(datum['review_text'])/MAX_REVIEW_LENGTH"
   ]
  },
  {
   "cell_type": "code",
   "execution_count": 8,
   "id": "f1ebbbb2-d5ae-405e-a02d-7307265387b8",
   "metadata": {},
   "outputs": [],
   "source": [
    "# Filter down and add intercept\n",
    "X = list(map(feature, dataset))\n",
    "X = list(map(lambda x: [1, x], X))\n",
    "Y = list(map(lambda x: x['rating'], dataset))"
   ]
  },
  {
   "cell_type": "code",
   "execution_count": 9,
   "id": "d3b20c24",
   "metadata": {},
   "outputs": [],
   "source": [
    "# Train model and obtain coef and MSE\n",
    "reg = linear_model.LinearRegression().fit(X, Y)\n",
    "\n",
    "theta = reg.coef_\n",
    "MSE = mean_squared_error(Y, reg.predict(X))"
   ]
  },
  {
   "cell_type": "code",
   "execution_count": 10,
   "id": "aff0ac61-0957-4d3d-ba0b-2db2b222026d",
   "metadata": {},
   "outputs": [],
   "source": [
    "answers['Q1'] = [theta[0], theta[1], MSE]"
   ]
  },
  {
   "cell_type": "code",
   "execution_count": 11,
   "id": "1d6a1c2a-c1cf-4b17-bd42-687499297c8c",
   "metadata": {},
   "outputs": [],
   "source": [
    "assertFloatList(answers['Q1'], 3)"
   ]
  },
  {
   "cell_type": "code",
   "execution_count": 12,
   "id": "a8e3b548-53bc-47ad-bc45-d63fc4af95ce",
   "metadata": {},
   "outputs": [],
   "source": [
    "### Question 2"
   ]
  },
  {
   "cell_type": "code",
   "execution_count": 13,
   "id": "6331a843-78ac-4764-bf37-5dd234f09229",
   "metadata": {},
   "outputs": [],
   "source": [
    "for d in dataset:\n",
    "    t = dateutil.parser.parse(d['date_added'])\n",
    "    d['parsed_date'] = t"
   ]
  },
  {
   "cell_type": "code",
   "execution_count": 14,
   "id": "dd944700",
   "metadata": {
    "scrolled": true
   },
   "outputs": [],
   "source": [
    "# Clean dataset\n",
    "df = pd.DataFrame(dataset)\n",
    "df['parsed_date'] = pd.to_datetime(df['parsed_date'], format='%Y-%m-%d %H:%M:%S%z', utc=True)\n",
    "df['weekday'] = df['parsed_date'].dt.strftime('%A')\n",
    "df['month'] = df['parsed_date'].dt.strftime('%B')\n",
    "df['review_text_prop'] = list(map(lambda x: len(x['review_text'])/MAX_REVIEW_LENGTH, dataset))\n",
    "one_hot_df = pd.get_dummies(df, columns=['weekday', 'month'], prefix=['weekday', 'month'])\n",
    "\n",
    "one_hot_df = one_hot_df.drop(columns=['user_id', 'book_id', 'review_id', 'date_added', 'date_updated', 'read_at', 'started_at', 'n_votes', 'n_comments', 'review_text', 'parsed_date', 'weekday_Monday', 'month_January'])\n",
    "df = df.drop(columns=['user_id', 'book_id', 'review_id', 'date_added', 'date_updated', 'read_at', 'started_at', 'n_votes', 'n_comments', 'review_text', 'parsed_date'])"
   ]
  },
  {
   "cell_type": "code",
   "execution_count": 15,
   "id": "18be1bc1-7cc0-4249-9b0c-513c37b86665",
   "metadata": {},
   "outputs": [],
   "source": [
    "# Obtain Features\n",
    "X = one_hot_df[one_hot_df.columns.difference(['rating'])]\n",
    "Y = one_hot_df['rating']"
   ]
  },
  {
   "cell_type": "code",
   "execution_count": 16,
   "id": "21f3258e-b3a1-40bd-90bb-8a5b23b537c7",
   "metadata": {},
   "outputs": [],
   "source": [
    "answers['Q2'] = [np.append(X.loc[0].values, [1]),np.append(X.loc[1].values, [1])]"
   ]
  },
  {
   "cell_type": "code",
   "execution_count": 17,
   "id": "c28bda14-710b-47f2-9747-6d5f09d958ae",
   "metadata": {},
   "outputs": [],
   "source": [
    "assertFloatList(answers['Q2'][0], 19)\n",
    "assertFloatList(answers['Q2'][1], 19)"
   ]
  },
  {
   "cell_type": "code",
   "execution_count": 18,
   "id": "35d18540-6413-4459-8082-0f8cc1d3e276",
   "metadata": {},
   "outputs": [],
   "source": [
    "### Question 3"
   ]
  },
  {
   "cell_type": "code",
   "execution_count": 19,
   "id": "0a384b10",
   "metadata": {},
   "outputs": [],
   "source": [
    "# Clean datasets\n",
    "df['weekday'] = LabelEncoder().fit_transform(df['weekday'])\n",
    "df['month'] = LabelEncoder().fit_transform(df['month'])\n",
    "df['intercept'] = 1\n",
    "one_hot_df['intercept'] = 1"
   ]
  },
  {
   "cell_type": "code",
   "execution_count": 20,
   "id": "8d409675",
   "metadata": {},
   "outputs": [],
   "source": [
    "# Obtain features\n",
    "direct_X = df[df.columns.difference(['rating'])]\n",
    "direct_Y = df['rating']\n",
    "one_hot_X = one_hot_df[one_hot_df.columns.difference(['rating'])]\n",
    "one_hot_Y = one_hot_df['rating']"
   ]
  },
  {
   "cell_type": "code",
   "execution_count": 21,
   "id": "11874fe7",
   "metadata": {
    "scrolled": true
   },
   "outputs": [],
   "source": [
    "# Train models\n",
    "direct_reg = linear_model.LinearRegression().fit(direct_X, direct_Y)\n",
    "one_hot_reg = linear_model.LinearRegression().fit(one_hot_X, one_hot_Y)"
   ]
  },
  {
   "cell_type": "code",
   "execution_count": 22,
   "id": "595220ef-b8b2-4377-9e2c-1743495b9c24",
   "metadata": {},
   "outputs": [],
   "source": [
    "# Obtain MSEs\n",
    "mse2 = mean_squared_error(direct_Y, direct_reg.predict(direct_X))\n",
    "mse3 = mean_squared_error(one_hot_Y, one_hot_reg.predict(one_hot_X))"
   ]
  },
  {
   "cell_type": "code",
   "execution_count": 23,
   "id": "5d2e124d-10d4-4147-a2d3-172c50f47029",
   "metadata": {},
   "outputs": [],
   "source": [
    "answers['Q3'] = [mse2, mse3]"
   ]
  },
  {
   "cell_type": "code",
   "execution_count": 24,
   "id": "289b8ec1-53bd-4796-9613-b3557fffd84d",
   "metadata": {},
   "outputs": [],
   "source": [
    "assertFloatList(answers['Q3'], 2)"
   ]
  },
  {
   "cell_type": "code",
   "execution_count": 25,
   "id": "6d89e772-b1ad-46fc-aeb8-45a6df15fa5d",
   "metadata": {},
   "outputs": [],
   "source": [
    "### Question 4"
   ]
  },
  {
   "cell_type": "code",
   "execution_count": 27,
   "id": "54ab0a2f-9efa-4035-96ba-dbce8c86f039",
   "metadata": {},
   "outputs": [],
   "source": [
    "random.seed(0)\n",
    "random.shuffle(dataset)"
   ]
  },
  {
   "cell_type": "code",
   "execution_count": 28,
   "id": "d1029574-b4c4-4675-83ad-c20674a2428b",
   "metadata": {},
   "outputs": [
    {
     "ename": "NameError",
     "evalue": "name 'feature3' is not defined",
     "output_type": "error",
     "traceback": [
      "\u001b[1;31m---------------------------------------------------------------------------\u001b[0m",
      "\u001b[1;31mNameError\u001b[0m                                 Traceback (most recent call last)",
      "Cell \u001b[1;32mIn[28], line 2\u001b[0m\n\u001b[0;32m      1\u001b[0m X2 \u001b[38;5;241m=\u001b[39m [feature(d) \u001b[38;5;28;01mfor\u001b[39;00m d \u001b[38;5;129;01min\u001b[39;00m dataset]\n\u001b[1;32m----> 2\u001b[0m X3 \u001b[38;5;241m=\u001b[39m [feature3(d) \u001b[38;5;28;01mfor\u001b[39;00m d \u001b[38;5;129;01min\u001b[39;00m dataset]\n\u001b[0;32m      3\u001b[0m Y \u001b[38;5;241m=\u001b[39m [d[\u001b[38;5;124m'\u001b[39m\u001b[38;5;124mrating\u001b[39m\u001b[38;5;124m'\u001b[39m] \u001b[38;5;28;01mfor\u001b[39;00m d \u001b[38;5;129;01min\u001b[39;00m dataset]\n",
      "Cell \u001b[1;32mIn[28], line 2\u001b[0m, in \u001b[0;36m<listcomp>\u001b[1;34m(.0)\u001b[0m\n\u001b[0;32m      1\u001b[0m X2 \u001b[38;5;241m=\u001b[39m [feature(d) \u001b[38;5;28;01mfor\u001b[39;00m d \u001b[38;5;129;01min\u001b[39;00m dataset]\n\u001b[1;32m----> 2\u001b[0m X3 \u001b[38;5;241m=\u001b[39m [\u001b[43mfeature3\u001b[49m(d) \u001b[38;5;28;01mfor\u001b[39;00m d \u001b[38;5;129;01min\u001b[39;00m dataset]\n\u001b[0;32m      3\u001b[0m Y \u001b[38;5;241m=\u001b[39m [d[\u001b[38;5;124m'\u001b[39m\u001b[38;5;124mrating\u001b[39m\u001b[38;5;124m'\u001b[39m] \u001b[38;5;28;01mfor\u001b[39;00m d \u001b[38;5;129;01min\u001b[39;00m dataset]\n",
      "\u001b[1;31mNameError\u001b[0m: name 'feature3' is not defined"
     ]
    }
   ],
   "source": [
    "X2 = [feature(d) for d in dataset]\n",
    "X3 = [feature3(d) for d in dataset]\n",
    "Y = [d['rating'] for d in dataset]"
   ]
  },
  {
   "cell_type": "code",
   "execution_count": null,
   "id": "4d289580-a10d-48a5-85ae-2d3e77b007d1",
   "metadata": {},
   "outputs": [],
   "source": [
    "train2, test2 = X2[:len(X2)//2], X2[len(X2)//2:]\n",
    "train3, test3 = X3[:len(X3)//2], X3[len(X3)//2:]\n",
    "trainY, testY = Y[:len(Y)//2], Y[len(Y)//2:]"
   ]
  },
  {
   "cell_type": "code",
   "execution_count": null,
   "id": "2c0c46b5-774b-44b9-856b-dd1d4ab62e2d",
   "metadata": {},
   "outputs": [],
   "source": []
  },
  {
   "cell_type": "code",
   "execution_count": null,
   "id": "6cfc160b-eab4-406d-8ff3-e9e1670bbbf0",
   "metadata": {},
   "outputs": [],
   "source": [
    "answers['Q4'] = [test_mse2, test_mse3]"
   ]
  },
  {
   "cell_type": "code",
   "execution_count": null,
   "id": "453c7ca7-8649-4722-9d6a-1980b536e7fa",
   "metadata": {},
   "outputs": [],
   "source": [
    "assertFloatList(answers['Q4'], 2)"
   ]
  },
  {
   "cell_type": "code",
   "execution_count": null,
   "id": "3a38cc78-c502-4ad1-b2db-d8358c0caa3e",
   "metadata": {},
   "outputs": [],
   "source": [
    "### Question 5"
   ]
  },
  {
   "cell_type": "code",
   "execution_count": null,
   "id": "7dde2008-33d7-4fa9-8303-ea639bf54203",
   "metadata": {},
   "outputs": [],
   "source": [
    "f = open(\"beer_50000.json\")\n",
    "dataset = []\n",
    "for l in f:\n",
    "    dataset.append(eval(l))"
   ]
  },
  {
   "cell_type": "code",
   "execution_count": null,
   "id": "7e76f545-a0dd-4c97-9693-82d859880a99",
   "metadata": {},
   "outputs": [],
   "source": []
  },
  {
   "cell_type": "code",
   "execution_count": null,
   "id": "cabb75ec-826a-497e-b158-f5c340aea4d2",
   "metadata": {},
   "outputs": [],
   "source": [
    "X = \n",
    "y = "
   ]
  },
  {
   "cell_type": "code",
   "execution_count": null,
   "id": "04323540-48d2-4129-84c6-f3fe1d012179",
   "metadata": {},
   "outputs": [],
   "source": []
  },
  {
   "cell_type": "code",
   "execution_count": null,
   "id": "67866d15-cd7a-4643-87a6-d20fa7135428",
   "metadata": {},
   "outputs": [],
   "source": [
    "TP = \n",
    "TN = \n",
    "FP = \n",
    "FN = "
   ]
  },
  {
   "cell_type": "code",
   "execution_count": null,
   "id": "e3b8297c-444e-4832-8f75-fae48d074162",
   "metadata": {},
   "outputs": [],
   "source": [
    "BER = "
   ]
  },
  {
   "cell_type": "code",
   "execution_count": null,
   "id": "e4cf3f97-14ee-4c2b-a1b0-e5df323bfc28",
   "metadata": {},
   "outputs": [],
   "source": [
    "answers['Q5'] = [TP, TN, FP, FN, BER]"
   ]
  },
  {
   "cell_type": "code",
   "execution_count": null,
   "id": "bb92ee88-4f3c-44fc-a9c0-57e377f9c068",
   "metadata": {},
   "outputs": [],
   "source": [
    "assertFloatList(answers['Q5'], 5)"
   ]
  },
  {
   "cell_type": "code",
   "execution_count": null,
   "id": "a3c14955-d174-473b-bf2b-a2b98776685e",
   "metadata": {},
   "outputs": [],
   "source": [
    "### Question 6"
   ]
  },
  {
   "cell_type": "code",
   "execution_count": null,
   "id": "2a71178c-589e-433c-8bdb-70c5e1510fce",
   "metadata": {},
   "outputs": [],
   "source": []
  },
  {
   "cell_type": "code",
   "execution_count": null,
   "id": "93cdb65b-4cd4-47f1-a4f6-50f0b68a6fda",
   "metadata": {},
   "outputs": [],
   "source": [
    "precs = []"
   ]
  },
  {
   "cell_type": "code",
   "execution_count": null,
   "id": "5a936845-ac24-4e7d-b24a-7aa54ab20fcb",
   "metadata": {},
   "outputs": [],
   "source": [
    "for k in [1,100,1000,10000]:\n",
    "    # ..."
   ]
  },
  {
   "cell_type": "code",
   "execution_count": null,
   "id": "2926f098-8166-4748-9ad5-97ece5d67869",
   "metadata": {},
   "outputs": [],
   "source": [
    "answers['Q6'] = precs"
   ]
  },
  {
   "cell_type": "code",
   "execution_count": null,
   "id": "934b27e5-eddc-4cd5-9dd5-5d91a17c9f53",
   "metadata": {},
   "outputs": [],
   "source": [
    "assertFloatList(answers['Q6'], 4)"
   ]
  },
  {
   "cell_type": "code",
   "execution_count": null,
   "id": "e8291f55-cfa1-4979-bcaa-42a238e9a844",
   "metadata": {},
   "outputs": [],
   "source": [
    "### Question 7"
   ]
  },
  {
   "cell_type": "code",
   "execution_count": null,
   "id": "cef0c655-2a38-4186-887c-355bc5575356",
   "metadata": {},
   "outputs": [],
   "source": [
    "its_test_MSE = 1000"
   ]
  },
  {
   "cell_type": "code",
   "execution_count": null,
   "id": "8ab81b75-b051-4b2c-bb3e-64fd95cc0b27",
   "metadata": {},
   "outputs": [],
   "source": [
    "answers['Q7'] = [\"Description of my solution\", its_test_MSE]"
   ]
  },
  {
   "cell_type": "code",
   "execution_count": null,
   "id": "06383de7",
   "metadata": {},
   "outputs": [],
   "source": [
    "f = open(\"answers_hw1.txt\", 'w')\n",
    "f.write(str(answers) + '\\n')\n",
    "f.close()"
   ]
  },
  {
   "cell_type": "code",
   "execution_count": null,
   "id": "024a628f",
   "metadata": {},
   "outputs": [],
   "source": []
  }
 ],
 "metadata": {
  "kernelspec": {
   "display_name": "Python 3 (ipykernel)",
   "language": "python",
   "name": "python3"
  },
  "language_info": {
   "codemirror_mode": {
    "name": "ipython",
    "version": 3
   },
   "file_extension": ".py",
   "mimetype": "text/x-python",
   "name": "python",
   "nbconvert_exporter": "python",
   "pygments_lexer": "ipython3",
   "version": "3.10.9"
  }
 },
 "nbformat": 4,
 "nbformat_minor": 5
}
