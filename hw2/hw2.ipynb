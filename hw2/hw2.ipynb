{
 "cells": [
  {
   "cell_type": "code",
   "execution_count": 1,
   "id": "d998586d",
   "metadata": {},
   "outputs": [],
   "source": [
    "import random\n",
    "from sklearn import linear_model\n",
    "from matplotlib import pyplot as plt\n",
    "from collections import defaultdict\n",
    "import gzip\n",
    "import pandas as pd\n",
    "from sklearn.metrics import accuracy_score, balanced_accuracy_score, jaccard_score, mean_squared_error\n",
    "import matplotlib.pyplot as plt\n",
    "from datetime import date\n",
    "from tqdm.notebook import tqdm"
   ]
  },
  {
   "cell_type": "code",
   "execution_count": 2,
   "id": "f17a95c1",
   "metadata": {},
   "outputs": [],
   "source": [
    "def assertFloat(x):\n",
    "    assert type(float(x)) == float\n",
    "\n",
    "def assertFloatList(items, N):\n",
    "    assert len(items) == N\n",
    "    assert [type(float(x)) for x in items] == [float]*N"
   ]
  },
  {
   "cell_type": "code",
   "execution_count": 3,
   "id": "4a87f98f-715c-4bc5-9b06-ac92e1ad7a22",
   "metadata": {},
   "outputs": [],
   "source": [
    "answers = {}"
   ]
  },
  {
   "cell_type": "code",
   "execution_count": 4,
   "id": "a851f13d-134a-4ce4-8bd2-df5f606ac9dd",
   "metadata": {},
   "outputs": [],
   "source": [
    "def parseData(fname):\n",
    "    for l in open(fname):\n",
    "        yield eval(l)"
   ]
  },
  {
   "cell_type": "code",
   "execution_count": 5,
   "id": "ba796d3e-294d-403c-8b81-b3f4a85523d4",
   "metadata": {},
   "outputs": [],
   "source": [
    "data = list(parseData(\"./../data/beer_50000.json\"))"
   ]
  },
  {
   "cell_type": "code",
   "execution_count": 6,
   "id": "6100b434-b50d-4dff-b986-61ce07aa6a39",
   "metadata": {},
   "outputs": [],
   "source": [
    "random.seed(0)\n",
    "random.shuffle(data)"
   ]
  },
  {
   "cell_type": "code",
   "execution_count": 7,
   "id": "a6e9582d-279e-4a0d-bcad-e85018bd4ffb",
   "metadata": {},
   "outputs": [],
   "source": [
    "dataTrain = data[:25000]\n",
    "dataValid = data[25000:37500]\n",
    "dataTest = data[37500:]"
   ]
  },
  {
   "cell_type": "code",
   "execution_count": 8,
   "id": "d3b17174-8ad6-4a98-ac3f-1a431c730cfd",
   "metadata": {},
   "outputs": [],
   "source": [
    "yTrain = [d['beer/ABV'] > 7 for d in dataTrain]\n",
    "yValid = [d['beer/ABV'] > 7 for d in dataValid]\n",
    "yTest = [d['beer/ABV'] > 7 for d in dataTest]"
   ]
  },
  {
   "cell_type": "code",
   "execution_count": 9,
   "id": "a7712018-f883-4a4c-9ba0-9ae9287c6b31",
   "metadata": {},
   "outputs": [],
   "source": [
    "categoryCounts = defaultdict(int)\n",
    "for d in data:\n",
    "    categoryCounts[d['beer/style']] += 1"
   ]
  },
  {
   "cell_type": "code",
   "execution_count": 10,
   "id": "e82da2c2-43a6-4269-87a3-5fd5ef92f3b0",
   "metadata": {},
   "outputs": [],
   "source": [
    "categories = [c for c in categoryCounts if categoryCounts[c] > 1000]"
   ]
  },
  {
   "cell_type": "code",
   "execution_count": 11,
   "id": "1c838c5c-6c59-4049-8201-68c376dd4295",
   "metadata": {},
   "outputs": [],
   "source": [
    "catID = dict(zip(list(categories),range(len(categories))))"
   ]
  },
  {
   "cell_type": "code",
   "execution_count": 12,
   "id": "b7bbafdd-9c35-4b24-8d7c-1474430bcb06",
   "metadata": {},
   "outputs": [],
   "source": [
    "df_train = pd.DataFrame(dataTrain)\n",
    "df_valid = pd.DataFrame(dataValid)\n",
    "df_test = pd.DataFrame(dataTest)"
   ]
  },
  {
   "cell_type": "markdown",
   "id": "f32df801-0551-4aca-84e9-28d1358f3a51",
   "metadata": {},
   "source": [
    "review_columns = ['review/aroma', 'review/appearance', 'review/palate', 'review/taste', 'review/overall']<br>\n",
    "sample_df['reviews'] = df[review_columns].values.tolist()"
   ]
  },
  {
   "cell_type": "code",
   "execution_count": 13,
   "id": "cd276036-e5fb-4f2c-a725-e63a5f1723f3",
   "metadata": {},
   "outputs": [],
   "source": [
    "MAX_REVIEW_LENGTH = max(list(map(lambda x: len(x['review/text']), data)))\n",
    "\n",
    "def apply_feat(df, includeCat = True, includeReview = True, includeLength = True):\n",
    "    sample_df = pd.DataFrame()\n",
    "    if includeCat:\n",
    "        sample_df['beer/style'] = df['beer/style'].apply(lambda x: catID[x] if x in catID else \"dummy\")\n",
    "        sample_df = pd.get_dummies(sample_df, columns=['beer/style']).drop(columns=['beer/style_dummy'])\n",
    "    if includeReview:\n",
    "        sample_df['review/aroma'] = df['review/aroma']\n",
    "        sample_df['review/appearance'] = df['review/appearance']\n",
    "        sample_df['review/palate'] = df['review/palate']\n",
    "        sample_df['review/taste'] = df['review/taste']\n",
    "        sample_df['review/overall'] = df['review/overall']\n",
    "    if includeLength:\n",
    "        sample_df['review_length'] = df['review/text'].apply(lambda x: len(x)/MAX_REVIEW_LENGTH)\n",
    "    return sample_df"
   ]
  },
  {
   "cell_type": "code",
   "execution_count": 14,
   "id": "14486a0e-c501-4988-abb5-ab70c1cd3e66",
   "metadata": {},
   "outputs": [],
   "source": [
    "### Question 1"
   ]
  },
  {
   "cell_type": "code",
   "execution_count": 15,
   "id": "bef77746-45de-4cb2-be2f-a67c1ac716b8",
   "metadata": {},
   "outputs": [],
   "source": [
    "df_train_1 = apply_feat(df_train, True, False, False)\n",
    "df_valid_1 = apply_feat(df_valid, True, False, False)\n",
    "df_test_1 = apply_feat(df_test, True, False, False)"
   ]
  },
  {
   "cell_type": "code",
   "execution_count": 16,
   "id": "a2785003-0eac-4a34-bace-93d97a682ffb",
   "metadata": {},
   "outputs": [
    {
     "data": {
      "text/html": [
       "<style>#sk-container-id-1 {color: black;}#sk-container-id-1 pre{padding: 0;}#sk-container-id-1 div.sk-toggleable {background-color: white;}#sk-container-id-1 label.sk-toggleable__label {cursor: pointer;display: block;width: 100%;margin-bottom: 0;padding: 0.3em;box-sizing: border-box;text-align: center;}#sk-container-id-1 label.sk-toggleable__label-arrow:before {content: \"▸\";float: left;margin-right: 0.25em;color: #696969;}#sk-container-id-1 label.sk-toggleable__label-arrow:hover:before {color: black;}#sk-container-id-1 div.sk-estimator:hover label.sk-toggleable__label-arrow:before {color: black;}#sk-container-id-1 div.sk-toggleable__content {max-height: 0;max-width: 0;overflow: hidden;text-align: left;background-color: #f0f8ff;}#sk-container-id-1 div.sk-toggleable__content pre {margin: 0.2em;color: black;border-radius: 0.25em;background-color: #f0f8ff;}#sk-container-id-1 input.sk-toggleable__control:checked~div.sk-toggleable__content {max-height: 200px;max-width: 100%;overflow: auto;}#sk-container-id-1 input.sk-toggleable__control:checked~label.sk-toggleable__label-arrow:before {content: \"▾\";}#sk-container-id-1 div.sk-estimator input.sk-toggleable__control:checked~label.sk-toggleable__label {background-color: #d4ebff;}#sk-container-id-1 div.sk-label input.sk-toggleable__control:checked~label.sk-toggleable__label {background-color: #d4ebff;}#sk-container-id-1 input.sk-hidden--visually {border: 0;clip: rect(1px 1px 1px 1px);clip: rect(1px, 1px, 1px, 1px);height: 1px;margin: -1px;overflow: hidden;padding: 0;position: absolute;width: 1px;}#sk-container-id-1 div.sk-estimator {font-family: monospace;background-color: #f0f8ff;border: 1px dotted black;border-radius: 0.25em;box-sizing: border-box;margin-bottom: 0.5em;}#sk-container-id-1 div.sk-estimator:hover {background-color: #d4ebff;}#sk-container-id-1 div.sk-parallel-item::after {content: \"\";width: 100%;border-bottom: 1px solid gray;flex-grow: 1;}#sk-container-id-1 div.sk-label:hover label.sk-toggleable__label {background-color: #d4ebff;}#sk-container-id-1 div.sk-serial::before {content: \"\";position: absolute;border-left: 1px solid gray;box-sizing: border-box;top: 0;bottom: 0;left: 50%;z-index: 0;}#sk-container-id-1 div.sk-serial {display: flex;flex-direction: column;align-items: center;background-color: white;padding-right: 0.2em;padding-left: 0.2em;position: relative;}#sk-container-id-1 div.sk-item {position: relative;z-index: 1;}#sk-container-id-1 div.sk-parallel {display: flex;align-items: stretch;justify-content: center;background-color: white;position: relative;}#sk-container-id-1 div.sk-item::before, #sk-container-id-1 div.sk-parallel-item::before {content: \"\";position: absolute;border-left: 1px solid gray;box-sizing: border-box;top: 0;bottom: 0;left: 50%;z-index: -1;}#sk-container-id-1 div.sk-parallel-item {display: flex;flex-direction: column;z-index: 1;position: relative;background-color: white;}#sk-container-id-1 div.sk-parallel-item:first-child::after {align-self: flex-end;width: 50%;}#sk-container-id-1 div.sk-parallel-item:last-child::after {align-self: flex-start;width: 50%;}#sk-container-id-1 div.sk-parallel-item:only-child::after {width: 0;}#sk-container-id-1 div.sk-dashed-wrapped {border: 1px dashed gray;margin: 0 0.4em 0.5em 0.4em;box-sizing: border-box;padding-bottom: 0.4em;background-color: white;}#sk-container-id-1 div.sk-label label {font-family: monospace;font-weight: bold;display: inline-block;line-height: 1.2em;}#sk-container-id-1 div.sk-label-container {text-align: center;}#sk-container-id-1 div.sk-container {/* jupyter's `normalize.less` sets `[hidden] { display: none; }` but bootstrap.min.css set `[hidden] { display: none !important; }` so we also need the `!important` here to be able to override the default hidden behavior on the sphinx rendered scikit-learn.org. See: https://github.com/scikit-learn/scikit-learn/issues/21755 */display: inline-block !important;position: relative;}#sk-container-id-1 div.sk-text-repr-fallback {display: none;}</style><div id=\"sk-container-id-1\" class=\"sk-top-container\"><div class=\"sk-text-repr-fallback\"><pre>LogisticRegression(C=10, class_weight=&#x27;balanced&#x27;)</pre><b>In a Jupyter environment, please rerun this cell to show the HTML representation or trust the notebook. <br />On GitHub, the HTML representation is unable to render, please try loading this page with nbviewer.org.</b></div><div class=\"sk-container\" hidden><div class=\"sk-item\"><div class=\"sk-estimator sk-toggleable\"><input class=\"sk-toggleable__control sk-hidden--visually\" id=\"sk-estimator-id-1\" type=\"checkbox\" checked><label for=\"sk-estimator-id-1\" class=\"sk-toggleable__label sk-toggleable__label-arrow\">LogisticRegression</label><div class=\"sk-toggleable__content\"><pre>LogisticRegression(C=10, class_weight=&#x27;balanced&#x27;)</pre></div></div></div></div></div>"
      ],
      "text/plain": [
       "LogisticRegression(C=10, class_weight='balanced')"
      ]
     },
     "execution_count": 16,
     "metadata": {},
     "output_type": "execute_result"
    }
   ],
   "source": [
    "model = linear_model.LogisticRegression(C=10, class_weight=\"balanced\")\n",
    "model.fit(df_train_1, yTrain)"
   ]
  },
  {
   "cell_type": "code",
   "execution_count": 17,
   "id": "86058832-33d1-4ffd-8356-3723c9bd4224",
   "metadata": {},
   "outputs": [],
   "source": [
    "validBER = 1 - balanced_accuracy_score(yValid, model.predict(df_valid_1))\n",
    "testBER = 1 - balanced_accuracy_score(yTest, model.predict(df_test_1))"
   ]
  },
  {
   "cell_type": "code",
   "execution_count": 18,
   "id": "0580666f-429c-4d92-b818-32e36e542f3a",
   "metadata": {},
   "outputs": [
    {
     "data": {
      "text/plain": [
       "{}"
      ]
     },
     "execution_count": 18,
     "metadata": {},
     "output_type": "execute_result"
    }
   ],
   "source": [
    "answers"
   ]
  },
  {
   "cell_type": "code",
   "execution_count": 19,
   "id": "cf2571b3-6999-4714-a4aa-62dab31937bb",
   "metadata": {},
   "outputs": [],
   "source": [
    "answers['Q1'] = [validBER, testBER]"
   ]
  },
  {
   "cell_type": "code",
   "execution_count": 20,
   "id": "f899b683-3a9c-4f65-9167-54938589f12c",
   "metadata": {},
   "outputs": [],
   "source": [
    "assertFloatList(answers['Q1'], 2)"
   ]
  },
  {
   "cell_type": "code",
   "execution_count": 21,
   "id": "a5724e91-cbd9-4e44-8a20-7a8cc350c1a4",
   "metadata": {},
   "outputs": [],
   "source": [
    "### Question 2"
   ]
  },
  {
   "cell_type": "code",
   "execution_count": 22,
   "id": "fbefb017-bb2f-4a4f-b630-4c23fb61e915",
   "metadata": {},
   "outputs": [],
   "source": [
    "df_train_2 = apply_feat(df_train)\n",
    "df_valid_2 = apply_feat(df_valid)\n",
    "df_test_2 = apply_feat(df_test)"
   ]
  },
  {
   "cell_type": "code",
   "execution_count": 23,
   "id": "5c6e4ca4-b457-4a34-9614-4f100841851d",
   "metadata": {},
   "outputs": [
    {
     "data": {
      "text/html": [
       "<style>#sk-container-id-2 {color: black;}#sk-container-id-2 pre{padding: 0;}#sk-container-id-2 div.sk-toggleable {background-color: white;}#sk-container-id-2 label.sk-toggleable__label {cursor: pointer;display: block;width: 100%;margin-bottom: 0;padding: 0.3em;box-sizing: border-box;text-align: center;}#sk-container-id-2 label.sk-toggleable__label-arrow:before {content: \"▸\";float: left;margin-right: 0.25em;color: #696969;}#sk-container-id-2 label.sk-toggleable__label-arrow:hover:before {color: black;}#sk-container-id-2 div.sk-estimator:hover label.sk-toggleable__label-arrow:before {color: black;}#sk-container-id-2 div.sk-toggleable__content {max-height: 0;max-width: 0;overflow: hidden;text-align: left;background-color: #f0f8ff;}#sk-container-id-2 div.sk-toggleable__content pre {margin: 0.2em;color: black;border-radius: 0.25em;background-color: #f0f8ff;}#sk-container-id-2 input.sk-toggleable__control:checked~div.sk-toggleable__content {max-height: 200px;max-width: 100%;overflow: auto;}#sk-container-id-2 input.sk-toggleable__control:checked~label.sk-toggleable__label-arrow:before {content: \"▾\";}#sk-container-id-2 div.sk-estimator input.sk-toggleable__control:checked~label.sk-toggleable__label {background-color: #d4ebff;}#sk-container-id-2 div.sk-label input.sk-toggleable__control:checked~label.sk-toggleable__label {background-color: #d4ebff;}#sk-container-id-2 input.sk-hidden--visually {border: 0;clip: rect(1px 1px 1px 1px);clip: rect(1px, 1px, 1px, 1px);height: 1px;margin: -1px;overflow: hidden;padding: 0;position: absolute;width: 1px;}#sk-container-id-2 div.sk-estimator {font-family: monospace;background-color: #f0f8ff;border: 1px dotted black;border-radius: 0.25em;box-sizing: border-box;margin-bottom: 0.5em;}#sk-container-id-2 div.sk-estimator:hover {background-color: #d4ebff;}#sk-container-id-2 div.sk-parallel-item::after {content: \"\";width: 100%;border-bottom: 1px solid gray;flex-grow: 1;}#sk-container-id-2 div.sk-label:hover label.sk-toggleable__label {background-color: #d4ebff;}#sk-container-id-2 div.sk-serial::before {content: \"\";position: absolute;border-left: 1px solid gray;box-sizing: border-box;top: 0;bottom: 0;left: 50%;z-index: 0;}#sk-container-id-2 div.sk-serial {display: flex;flex-direction: column;align-items: center;background-color: white;padding-right: 0.2em;padding-left: 0.2em;position: relative;}#sk-container-id-2 div.sk-item {position: relative;z-index: 1;}#sk-container-id-2 div.sk-parallel {display: flex;align-items: stretch;justify-content: center;background-color: white;position: relative;}#sk-container-id-2 div.sk-item::before, #sk-container-id-2 div.sk-parallel-item::before {content: \"\";position: absolute;border-left: 1px solid gray;box-sizing: border-box;top: 0;bottom: 0;left: 50%;z-index: -1;}#sk-container-id-2 div.sk-parallel-item {display: flex;flex-direction: column;z-index: 1;position: relative;background-color: white;}#sk-container-id-2 div.sk-parallel-item:first-child::after {align-self: flex-end;width: 50%;}#sk-container-id-2 div.sk-parallel-item:last-child::after {align-self: flex-start;width: 50%;}#sk-container-id-2 div.sk-parallel-item:only-child::after {width: 0;}#sk-container-id-2 div.sk-dashed-wrapped {border: 1px dashed gray;margin: 0 0.4em 0.5em 0.4em;box-sizing: border-box;padding-bottom: 0.4em;background-color: white;}#sk-container-id-2 div.sk-label label {font-family: monospace;font-weight: bold;display: inline-block;line-height: 1.2em;}#sk-container-id-2 div.sk-label-container {text-align: center;}#sk-container-id-2 div.sk-container {/* jupyter's `normalize.less` sets `[hidden] { display: none; }` but bootstrap.min.css set `[hidden] { display: none !important; }` so we also need the `!important` here to be able to override the default hidden behavior on the sphinx rendered scikit-learn.org. See: https://github.com/scikit-learn/scikit-learn/issues/21755 */display: inline-block !important;position: relative;}#sk-container-id-2 div.sk-text-repr-fallback {display: none;}</style><div id=\"sk-container-id-2\" class=\"sk-top-container\"><div class=\"sk-text-repr-fallback\"><pre>LogisticRegression(C=10, class_weight=&#x27;balanced&#x27;, max_iter=1000)</pre><b>In a Jupyter environment, please rerun this cell to show the HTML representation or trust the notebook. <br />On GitHub, the HTML representation is unable to render, please try loading this page with nbviewer.org.</b></div><div class=\"sk-container\" hidden><div class=\"sk-item\"><div class=\"sk-estimator sk-toggleable\"><input class=\"sk-toggleable__control sk-hidden--visually\" id=\"sk-estimator-id-2\" type=\"checkbox\" checked><label for=\"sk-estimator-id-2\" class=\"sk-toggleable__label sk-toggleable__label-arrow\">LogisticRegression</label><div class=\"sk-toggleable__content\"><pre>LogisticRegression(C=10, class_weight=&#x27;balanced&#x27;, max_iter=1000)</pre></div></div></div></div></div>"
      ],
      "text/plain": [
       "LogisticRegression(C=10, class_weight='balanced', max_iter=1000)"
      ]
     },
     "execution_count": 23,
     "metadata": {},
     "output_type": "execute_result"
    }
   ],
   "source": [
    "model = linear_model.LogisticRegression(C=10, class_weight=\"balanced\", max_iter=1000)\n",
    "model.fit(df_train_2, yTrain)"
   ]
  },
  {
   "cell_type": "code",
   "execution_count": 24,
   "id": "4ff6512a-afb6-4ba8-8a2d-fbe5749c62be",
   "metadata": {},
   "outputs": [],
   "source": [
    "validBER = 1 - balanced_accuracy_score(yValid, model.predict(df_valid_2))\n",
    "testBER = 1 - balanced_accuracy_score(yTest, model.predict(df_test_2))"
   ]
  },
  {
   "cell_type": "code",
   "execution_count": 25,
   "id": "23daba7d-3f75-4d50-b393-34992f4710cc",
   "metadata": {},
   "outputs": [],
   "source": [
    "answers['Q2'] = [validBER, testBER]"
   ]
  },
  {
   "cell_type": "code",
   "execution_count": 26,
   "id": "ecb8d0b4-d4c8-4419-a7c1-febb78fd44f5",
   "metadata": {},
   "outputs": [],
   "source": [
    "assertFloatList(answers['Q2'], 2)"
   ]
  },
  {
   "cell_type": "code",
   "execution_count": 27,
   "id": "6e65d346-5020-429b-90ed-4d52d7c97b4f",
   "metadata": {},
   "outputs": [],
   "source": [
    "### Question 3"
   ]
  },
  {
   "cell_type": "code",
   "execution_count": 28,
   "id": "c97f0b41-0914-4649-984f-252e03ff9b08",
   "metadata": {},
   "outputs": [
    {
     "data": {
      "image/png": "[encoded data removed]",
      "text/plain": [
       "<Figure size 800x600 with 1 Axes>"
      ]
     },
     "metadata": {},
     "output_type": "display_data"
    },
    {
     "name": "stdout",
     "output_type": "stream",
     "text": [
      "Best C: 1\n",
      "Best Validation BER: 0.14186381292089734\n",
      "Best Test BER: 0.1428864422130799\n"
     ]
    }
   ],
   "source": [
    "validBER_values = []\n",
    "testBER_values = []\n",
    "best_C = None\n",
    "best_validBER = float('inf')\n",
    "best_testBER = float('inf')\n",
    "C_values = [0.001, 0.01, 0.1, 1, 10]\n",
    "for c in C_values:\n",
    "    model = linear_model.LogisticRegression(C=c, class_weight=\"balanced\", max_iter=1000)\n",
    "    model.fit(df_train_2, yTrain)\n",
    "\n",
    "    validBER = 1 - balanced_accuracy_score(yValid, model.predict(df_valid_2))\n",
    "    testBER = 1 - balanced_accuracy_score(yTest, model.predict(df_test_2))\n",
    "    \n",
    "    validBER_values.append(validBER)\n",
    "    testBER_values.append(testBER)\n",
    "\n",
    "    if validBER < best_validBER:\n",
    "        best_C = c\n",
    "        best_validBER = validBER\n",
    "        best_testBER = testBER\n",
    "\n",
    "plt.figure(figsize=(8, 6))\n",
    "plt.semilogx(C_values, validBER_values, label='Validation BER', marker='o')\n",
    "plt.semilogx(C_values, testBER_values, label='Test BER', marker='o')\n",
    "plt.xlabel('C (Inverse of Regularization Strength)')\n",
    "plt.ylabel('Balanced Error Rate (BER)')\n",
    "plt.legend()\n",
    "plt.title('Validation and Test BER for Different C Values')\n",
    "plt.grid(True)\n",
    "\n",
    "plt.show()\n",
    "\n",
    "print(\"Best C:\", best_C)\n",
    "print(\"Best Validation BER:\", best_validBER)\n",
    "print(\"Best Test BER:\", best_testBER)"
   ]
  },
  {
   "cell_type": "code",
   "execution_count": 29,
   "id": "812e0e27-424f-4389-9a65-d19d470910cd",
   "metadata": {},
   "outputs": [],
   "source": [
    "answers['Q3'] = [best_C, best_testBER, best_validBER]"
   ]
  },
  {
   "cell_type": "code",
   "execution_count": 30,
   "id": "362bb32f-f81e-4f3e-9c8b-24b6beeee794",
   "metadata": {},
   "outputs": [],
   "source": [
    "assertFloatList(answers['Q3'], 3)"
   ]
  },
  {
   "cell_type": "code",
   "execution_count": 31,
   "id": "6e31986b-646d-4bac-b578-517c6f2c02b9",
   "metadata": {},
   "outputs": [],
   "source": [
    "### Question 4"
   ]
  },
  {
   "cell_type": "code",
   "execution_count": 32,
   "id": "e793a404-c9ff-4a4c-897f-71a44f97d7e8",
   "metadata": {
    "scrolled": true
   },
   "outputs": [],
   "source": [
    "# No cat\n",
    "train_data = apply_feat(df_train, False, True, True)\n",
    "test_data = apply_feat(df_test, False, True, True)\n",
    "model = linear_model.LogisticRegression(C=c, class_weight=\"balanced\", max_iter=1000)\n",
    "model.fit(train_data, yTrain)\n",
    "testBER_noCat = 1 - balanced_accuracy_score(yTest, model.predict(test_data))"
   ]
  },
  {
   "cell_type": "code",
   "execution_count": 33,
   "id": "500f2566-ec15-481b-a4ba-8a7e6151111c",
   "metadata": {},
   "outputs": [],
   "source": [
    "# No review\n",
    "train_data = apply_feat(df_train, True, False, True)\n",
    "test_data = apply_feat(df_test, True, False, True)\n",
    "model = linear_model.LogisticRegression(C=c, class_weight=\"balanced\", max_iter=1000)\n",
    "model.fit(train_data, yTrain)\n",
    "testBER_noReview = 1 - balanced_accuracy_score(yTest, model.predict(test_data))"
   ]
  },
  {
   "cell_type": "code",
   "execution_count": 34,
   "id": "407b2ae2-6c1f-488b-ae0a-8417dd14e391",
   "metadata": {},
   "outputs": [],
   "source": [
    "# No length\n",
    "train_data = apply_feat(df_train, True, True, False)\n",
    "test_data = apply_feat(df_test, True, True, False)\n",
    "model = linear_model.LogisticRegression(C=c, class_weight=\"balanced\", max_iter=1000)\n",
    "model.fit(train_data, yTrain)\n",
    "testBER_noLength = 1 - balanced_accuracy_score(yTest, model.predict(test_data))"
   ]
  },
  {
   "cell_type": "code",
   "execution_count": 35,
   "id": "b3f5794b-10c9-41b3-bbf4-05b346fffcfb",
   "metadata": {},
   "outputs": [],
   "source": [
    "answers['Q4'] = [testBER_noCat, testBER_noReview, testBER_noLength]"
   ]
  },
  {
   "cell_type": "code",
   "execution_count": 36,
   "id": "0c3a712d-90cd-4a67-afe1-cca63b84e498",
   "metadata": {},
   "outputs": [],
   "source": [
    "assertFloatList(answers['Q4'], 3)"
   ]
  },
  {
   "cell_type": "code",
   "execution_count": 37,
   "id": "614e7747-143a-43e5-a0bd-1709c3bc4b50",
   "metadata": {},
   "outputs": [],
   "source": [
    "### Question 5"
   ]
  },
  {
   "cell_type": "code",
   "execution_count": 38,
   "id": "fe681798-bbd6-4d9b-ae30-f1431b9bebaf",
   "metadata": {
    "scrolled": true
   },
   "outputs": [],
   "source": [
    "path = \"./../data/amazon_reviews_us_Musical_Instruments_v1_00.tsv.gz\"\n",
    "f = gzip.open(path, 'rt', encoding=\"utf8\")\n",
    "\n",
    "header = f.readline()\n",
    "header = header.strip().split('\\t')"
   ]
  },
  {
   "cell_type": "code",
   "execution_count": 39,
   "id": "01c5fd53-ddd9-4f65-b602-f33dcd411ab2",
   "metadata": {},
   "outputs": [],
   "source": [
    "dataset = []\n",
    "\n",
    "for line in f:\n",
    "    fields = line.strip().split('\\t')\n",
    "    d = dict(zip(header, fields))\n",
    "    d['star_rating'] = int(d['star_rating'])\n",
    "    d['helpful_votes'] = int(d['helpful_votes'])\n",
    "    d['total_votes'] = int(d['total_votes'])\n",
    "    dataset.append(d)"
   ]
  },
  {
   "cell_type": "code",
   "execution_count": 40,
   "id": "1d3c0175-41bc-4267-be22-0dd98136345a",
   "metadata": {},
   "outputs": [],
   "source": [
    "dataTrain = dataset[:int(len(dataset)*0.9)]\n",
    "dataTest = dataset[int(len(dataset)*0.9):]"
   ]
  },
  {
   "cell_type": "code",
   "execution_count": 41,
   "id": "19a441dc-2053-4b34-8410-da8e4335ae2f",
   "metadata": {},
   "outputs": [],
   "source": [
    "usersPerItem = defaultdict (set)\n",
    "itemsPerUser = defaultdict (set)\n",
    "\n",
    "for d in dataset:\n",
    "    user , item = d['customer_id'], d['product_id']\n",
    "    usersPerItem [item ]. add(user)\n",
    "    itemsPerUser [user ]. add(item)"
   ]
  },
  {
   "cell_type": "code",
   "execution_count": 42,
   "id": "544fcff6-ca4d-4175-8387-abcd50acf336",
   "metadata": {},
   "outputs": [],
   "source": [
    "def Jaccard(s1 , s2):\n",
    "    numerator = len(s1. intersection (s2))\n",
    "    denominator = len(s1.union(s2))\n",
    "    return numerator / denominator"
   ]
  },
  {
   "cell_type": "code",
   "execution_count": 43,
   "id": "8443fec6-cb13-4aa5-9acd-c3210a11380e",
   "metadata": {},
   "outputs": [],
   "source": [
    "def mostSimilar (i, K): \n",
    "    similarities = []\n",
    "    users = usersPerItem [i] # Users who have purchased i\n",
    "    for j in usersPerItem : # Compute similarity against each\n",
    "        if j == i: continue\n",
    "        sim = Jaccard(users , usersPerItem [j])\n",
    "        similarities .append ((sim ,j))\n",
    "    similarities .sort(reverse=True) # Sort to find the most\n",
    "    return similarities [:K]"
   ]
  },
  {
   "cell_type": "code",
   "execution_count": 44,
   "id": "5bdda8f1-9611-4e04-8e30-5a7642fed52a",
   "metadata": {},
   "outputs": [],
   "source": [
    "top_10_similar_items = mostSimilar('B0006VMBHI', 10)"
   ]
  },
  {
   "cell_type": "code",
   "execution_count": 45,
   "id": "2b8d21ce-2cec-460f-bbdf-e943a9cbed6a",
   "metadata": {},
   "outputs": [],
   "source": [
    "answers['Q5'] = ms = top_10_similar_items "
   ]
  },
  {
   "cell_type": "code",
   "execution_count": 46,
   "id": "57b7fb52-248a-4d11-a924-b8744aecd7a1",
   "metadata": {},
   "outputs": [],
   "source": [
    "assertFloatList([m[0] for m in ms], 10)"
   ]
  },
  {
   "cell_type": "code",
   "execution_count": 47,
   "id": "1e6fe1df-9464-4dc9-a58e-b6b1a6168803",
   "metadata": {},
   "outputs": [],
   "source": [
    "### Question 6"
   ]
  },
  {
   "cell_type": "code",
   "execution_count": 48,
   "id": "6575f4da-87af-41c2-b3df-0d54dbaabc74",
   "metadata": {},
   "outputs": [],
   "source": [
    "reviewsPerUser = defaultdict(list)\n",
    "reviewsPerItem = defaultdict(list)\n",
    "ratingMean = sum([d['star_rating'] for d in dataTrain]) / len(dataTrain)\n",
    "labels = [d['star_rating'] for d in dataset]\n",
    "ratingDict = {}\n",
    "itemNames = {}\n",
    "userAverages = {}\n",
    "itemAverages = {}\n",
    "\n",
    "for d in dataset:\n",
    "    user,item = d['customer_id'], d['product_id']\n",
    "    ratingDict[(user,item)] = d['star_rating']\n",
    "\n",
    "for d in dataTrain:\n",
    "    user,item = d['customer_id'], d['product_id']\n",
    "    usersPerItem[item].add(user)\n",
    "    itemsPerUser[user].add(item)\n",
    "    itemNames[item] = d['product_title']\n",
    "    reviewsPerUser[user].append(d)\n",
    "    reviewsPerItem[item].append(d)\n",
    "\n",
    "for u in itemsPerUser:\n",
    "    rs = [ratingDict[(u,i)] for i in itemsPerUser[u]]\n",
    "    userAverages[u] = sum(rs) / len(rs)\n",
    "    \n",
    "for i in usersPerItem:\n",
    "    rs = [ratingDict[(u,i)] for u in usersPerItem[i]]\n",
    "    itemAverages[i] = sum(rs) / len(rs)"
   ]
  },
  {
   "cell_type": "code",
   "execution_count": 49,
   "id": "11240137-6d72-4c42-89f2-5007b1e1dde7",
   "metadata": {},
   "outputs": [
    {
     "data": {
      "text/plain": [
       "514286"
      ]
     },
     "execution_count": 49,
     "metadata": {},
     "output_type": "execute_result"
    }
   ],
   "source": [
    "len(reviewsPerUser)"
   ]
  },
  {
   "cell_type": "code",
   "execution_count": 50,
   "id": "c246d060-642d-4a09-be14-a99e44358ee5",
   "metadata": {},
   "outputs": [],
   "source": [
    "def predictRating3(user,item):\n",
    "    ratings = []\n",
    "    similarities = []\n",
    "    for d in reviewsPerUser[user]:\n",
    "        i2 = d['product_id']\n",
    "        if i2 == item: continue\n",
    "        ratings.append(d['star_rating'] - itemAverages[i2])\n",
    "        similarities.append(Jaccard(usersPerItem[item],usersPerItem[i2]))\n",
    "    if (sum(similarities) > 0):\n",
    "        weightedRatings = [(x*y) for x,y in zip(ratings,similarities)]\n",
    "        return itemAverages[item] + sum(weightedRatings) / sum(similarities)\n",
    "    else:\n",
    "        return ratingMean"
   ]
  },
  {
   "cell_type": "code",
   "execution_count": 51,
   "id": "02b48057-9ac3-4f00-9ff0-42dc040473ac",
   "metadata": {},
   "outputs": [
    {
     "data": {
      "application/vnd.jupyter.widget-view+json": {
       "model_id": "1340f2b3a47542f686f31b2d5a11c483",
       "version_major": 2,
       "version_minor": 0
      },
      "text/plain": [
       "  0%|          | 0/90477 [00:00<?, ?it/s]"
      ]
     },
     "metadata": {},
     "output_type": "display_data"
    }
   ],
   "source": [
    "simPredictions = [predictRating3(d['customer_id'], d['product_id']) for d in tqdm(dataTest)]"
   ]
  },
  {
   "cell_type": "code",
   "execution_count": 52,
   "id": "31e6735d-4e79-4584-adfa-4c4497a84a4a",
   "metadata": {
    "scrolled": true
   },
   "outputs": [],
   "source": [
    "answers['Q6'] = mean_squared_error(simPredictions, labels[int(len(dataset)*0.9):])"
   ]
  },
  {
   "cell_type": "code",
   "execution_count": 53,
   "id": "26e85bd5-9689-4489-b4ef-0e01eee74f12",
   "metadata": {},
   "outputs": [
    {
     "data": {
      "text/plain": [
       "{'Q1': [0.16130237168160533, 0.1607838024608832],\n",
       " 'Q2': [0.14188307936778066, 0.14321963062514476],\n",
       " 'Q3': [1, 0.1428864422130799, 0.14186381292089734],\n",
       " 'Q4': [0.31297207540848004, 0.16114394628041007, 0.14637774058770103],\n",
       " 'Q5': [(0.028446389496717725, 'B00006I5SD'),\n",
       "  (0.01694915254237288, 'B00006I5SB'),\n",
       "  (0.015065913370998116, 'B000AJR482'),\n",
       "  (0.014204545454545454, 'B00E7MVP3S'),\n",
       "  (0.008955223880597015, 'B001255YL2'),\n",
       "  (0.008849557522123894, 'B003EIRVO8'),\n",
       "  (0.008333333333333333, 'B0015VEZ22'),\n",
       "  (0.00821917808219178, 'B00006I5UH'),\n",
       "  (0.008021390374331552, 'B00008BWM7'),\n",
       "  (0.007656967840735069, 'B000H2BC4E')],\n",
       " 'Q6': 1.627536046373963}"
      ]
     },
     "execution_count": 53,
     "metadata": {},
     "output_type": "execute_result"
    }
   ],
   "source": [
    "answers"
   ]
  },
  {
   "cell_type": "code",
   "execution_count": 54,
   "id": "01b6b0eb-575c-4d4f-8a2a-8fefafe873f9",
   "metadata": {},
   "outputs": [],
   "source": [
    "assertFloat(answers['Q6'])"
   ]
  },
  {
   "cell_type": "code",
   "execution_count": 55,
   "id": "5268ae3a-b7b9-4b52-ba37-6d6363261396",
   "metadata": {},
   "outputs": [],
   "source": [
    "### Question 7"
   ]
  },
  {
   "cell_type": "code",
   "execution_count": 56,
   "id": "3ff296ee-0a1a-480b-9274-b5560b8e1a65",
   "metadata": {},
   "outputs": [],
   "source": [
    "# Generating score from timestamps\n",
    "review_dates = list(map(lambda x: date.fromisoformat(x['review_date']), dataset))\n",
    "time_diff = max(review_dates) - min(review_dates)\n",
    "min_review_date = min(review_dates)\n",
    "timestamp_avgs = defaultdict(dict)\n",
    "\n",
    "def generateScoreFromTimeStamp(timestamp):\n",
    "    \"\"\" Generates a score biasing more recent reviews\n",
    "    \"\"\"\n",
    "    return (date.fromisoformat(timestamp) - min_review_date) / time_diff\n",
    "\n",
    "for d in dataset:\n",
    "    user, item = d['customer_id'], d['product_id']\n",
    "    timestamp_avgs[user][item] = generateScoreFromTimeStamp(d['review_date'])"
   ]
  },
  {
   "cell_type": "code",
   "execution_count": 57,
   "id": "f79f1b4a-0807-4436-9b0b-5e34a35af4af",
   "metadata": {},
   "outputs": [],
   "source": [
    "def predictRatingDecay(user,item):\n",
    "    ratings = []\n",
    "    similarities = []\n",
    "    timestamps = []\n",
    "    for d in reviewsPerUser[user]:\n",
    "        i2 = d['product_id']\n",
    "        if i2 == item: continue\n",
    "        ratings.append(d['star_rating'] - itemAverages[i2])\n",
    "        similarities.append(Jaccard(usersPerItem[item],usersPerItem[i2]))\n",
    "        timestamps.append(timestamp_avgs[d['customer_id']][d['product_id']])\n",
    "    if (sum(similarities) > 0):\n",
    "        weightedRatings = [(x*y*z) for x,y,z in zip(ratings,similarities,timestamps)]\n",
    "        return itemAverages[item] + sum(weightedRatings) / sum(similarities)\n",
    "    else:\n",
    "        return ratingMean"
   ]
  },
  {
   "cell_type": "code",
   "execution_count": 64,
   "id": "db58a20e-4534-45eb-814b-7cbc01bacdc2",
   "metadata": {},
   "outputs": [
    {
     "data": {
      "application/vnd.jupyter.widget-view+json": {
       "model_id": "6c4864a7b9c342d1b60d12d111d48768",
       "version_major": 2,
       "version_minor": 0
      },
      "text/plain": [
       "  0%|          | 0/90477 [00:00<?, ?it/s]"
      ]
     },
     "metadata": {},
     "output_type": "display_data"
    }
   ],
   "source": [
    "simPredictionsDecay = [predictRatingDecay(d['customer_id'], d['product_id']) for d in tqdm(dataTest)]\n",
    "new_mse = mean_squared_error(simPredictionsDecay, labels[int(len(dataset)*0.9):])"
   ]
  },
  {
   "cell_type": "code",
   "execution_count": 65,
   "id": "5e29aa60-5f6d-41c7-b9d2-5ff4a193ab94",
   "metadata": {},
   "outputs": [],
   "source": [
    "msg = '''\n",
    "    I created a function to calculate the time delata from the oldest and compared it to the relative to max time delta overall\n",
    "    to compute the scores. After adding it to the weightedRatings, It reduced the MSE by 0.04\n",
    "'''"
   ]
  },
  {
   "cell_type": "code",
   "execution_count": 66,
   "id": "5bd20307-5913-46d5-930d-53caf359f685",
   "metadata": {},
   "outputs": [],
   "source": [
    "answers['Q7'] = [msg, new_mse]"
   ]
  },
  {
   "cell_type": "code",
   "execution_count": 67,
   "id": "98c31bb6-e8f8-4f9f-ac15-2e120f24613d",
   "metadata": {},
   "outputs": [],
   "source": [
    "assertFloat(answers['Q7'][1])"
   ]
  },
  {
   "cell_type": "code",
   "execution_count": 68,
   "id": "a9cdbf74",
   "metadata": {},
   "outputs": [],
   "source": [
    "f = open(\"answers_hw2.txt\", 'w')\n",
    "f.write(str(answers) + '\\n')\n",
    "f.close()"
   ]
  }
 ],
 "metadata": {
  "kernelspec": {
   "display_name": "Python 3 (ipykernel)",
   "language": "python",
   "name": "python3"
  },
  "language_info": {
   "codemirror_mode": {
    "name": "ipython",
    "version": 3
   },
   "file_extension": ".py",
   "mimetype": "text/x-python",
   "name": "python",
   "nbconvert_exporter": "python",
   "pygments_lexer": "ipython3",
   "version": "3.11.5"
  }
 },
 "nbformat": 4,
 "nbformat_minor": 5
}
